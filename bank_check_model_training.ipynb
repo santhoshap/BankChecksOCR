{
 "cells": [
  {
   "cell_type": "markdown",
   "metadata": {
    "id": "KgAoB4sit19x"
   },
   "source": [
    "## SSD-tensorflow model training implementation"
   ]
  },
  {
   "cell_type": "code",
   "execution_count": null,
   "metadata": {
    "id": "iHJlZq9jfYeQ"
   },
   "outputs": [],
   "source": [
    "# References\n",
    "# https://tensorflow-object-detection-api-tutorial.readthedocs.io/en/latest"
   ]
  },
  {
   "cell_type": "code",
   "execution_count": 11,
   "metadata": {},
   "outputs": [
    {
     "name": "stdout",
     "output_type": "stream",
     "text": [
      "/Users\n"
     ]
    }
   ],
   "source": [
    "%cd Users"
   ]
  },
  {
   "cell_type": "code",
   "execution_count": 12,
   "metadata": {},
   "outputs": [
    {
     "name": "stdout",
     "output_type": "stream",
     "text": [
      "\u001b[30m\u001b[42mShared\u001b[m\u001b[m            \u001b[34msanthoshputtaraju\u001b[m\u001b[m\r\n"
     ]
    }
   ],
   "source": [
    "!ls"
   ]
  },
  {
   "cell_type": "code",
   "execution_count": 13,
   "metadata": {
    "colab": {
     "base_uri": "https://localhost:8080/"
    },
    "executionInfo": {
     "elapsed": 7427,
     "status": "ok",
     "timestamp": 1608797232129,
     "user": {
      "displayName": "Rochana Rumalshan",
      "photoUrl": "https://lh3.googleusercontent.com/a-/AOh14GgwjR7UqJKgUftQ5ioZZHm-x1FtjT4Oz4Xygq9T=s64",
      "userId": "05290604734228202310"
     },
     "user_tz": -330
    },
    "id": "MFjatHQNoBRC",
    "outputId": "4ece4e55-a180-47c6-ed73-5d2f7499a045"
   },
   "outputs": [
    {
     "name": "stdout",
     "output_type": "stream",
     "text": [
      "9\n",
      "0\n"
     ]
    }
   ],
   "source": [
    "from glob import glob\n",
    "\n",
    "# finding the number of files in the folder \n",
    "\n",
    "train_list = glob('/Users/santhoshputtaraju/desktop/OCR/bankchecks/workspace/training_demo/images/train/*.xml')\n",
    "val_list = glob('/Users/santhoshputtaraju/desktop/OCR/bankchecks/workspace/training_demo/images/test/*.xml')\n",
    "\n",
    "print(len(train_list))\n",
    "print(len(val_list))"
   ]
  },
  {
   "cell_type": "code",
   "execution_count": 16,
   "metadata": {
    "id": "Ox2TY0woY6Iw"
   },
   "outputs": [
    {
     "name": "stdout",
     "output_type": "stream",
     "text": [
      "/Users/santhoshputtaraju/Desktop/OCR/bankchecks\n",
      "bank_check_model_training.ipynb    \u001b[34mresults_and_postprocessing_script\u001b[m\u001b[m\r\n",
      "bank_check_ssd_object_detect.ipynb \u001b[34mscripts\u001b[m\u001b[m\r\n",
      "\u001b[34mcheck_train_images\u001b[m\u001b[m                 \u001b[34mworkspace\u001b[m\u001b[m\r\n",
      "\u001b[34mmodels\u001b[m\u001b[m\r\n"
     ]
    }
   ],
   "source": [
    "# define the correct path to the previously mentioned root folder\n",
    "%cd '/Users/santhoshputtaraju/desktop/OCR/bankchecks'\n",
    "!ls"
   ]
  },
  {
   "cell_type": "code",
   "execution_count": 17,
   "metadata": {
    "id": "rcEZVND_l8-W"
   },
   "outputs": [
    {
     "name": "stdout",
     "output_type": "stream",
     "text": [
      "Collecting tensorflow==2.1.0\n",
      "\u001b[?25l  Downloading https://files.pythonhosted.org/packages/35/55/a0dbd642e68e68f3e309d1413abdc0a7aa7e1534c79c0fc2501defb864ac/tensorflow-2.1.0-cp37-cp37m-macosx_10_11_x86_64.whl (120.8MB)\n",
      "\u001b[K     |████████████████████████████████| 120.8MB 29.0MB/s eta 0:00:01  |▎                               | 1.2MB 5.3MB/s eta 0:00:23     |███                             | 11.7MB 5.3MB/s eta 0:00:21\n",
      "\u001b[?25hCollecting absl-py>=0.7.0 (from tensorflow==2.1.0)\n",
      "\u001b[?25l  Downloading https://files.pythonhosted.org/packages/bc/58/0aa6fb779dc69cfc811df3398fcbeaeefbf18561b6e36b185df0782781cc/absl_py-0.11.0-py3-none-any.whl (127kB)\n",
      "\u001b[K     |████████████████████████████████| 133kB 37.7MB/s eta 0:00:01\n",
      "\u001b[?25hCollecting tensorflow-estimator<2.2.0,>=2.1.0rc0 (from tensorflow==2.1.0)\n",
      "\u001b[?25l  Downloading https://files.pythonhosted.org/packages/18/90/b77c328a1304437ab1310b463e533fa7689f4bfc41549593056d812fab8e/tensorflow_estimator-2.1.0-py2.py3-none-any.whl (448kB)\n",
      "\u001b[K     |████████████████████████████████| 450kB 25.2MB/s eta 0:00:01\n",
      "\u001b[?25hCollecting protobuf>=3.8.0 (from tensorflow==2.1.0)\n",
      "\u001b[?25l  Downloading https://files.pythonhosted.org/packages/fd/38/dc1b4ec33d3ebd540f2410c14743d3dc24f9df6556fde8c13983a9ba2a0a/protobuf-3.14.0-cp37-cp37m-macosx_10_9_x86_64.whl (1.0MB)\n",
      "\u001b[K     |████████████████████████████████| 1.0MB 27.1MB/s eta 0:00:01\n",
      "\u001b[?25hCollecting opt-einsum>=2.3.2 (from tensorflow==2.1.0)\n",
      "\u001b[?25l  Downloading https://files.pythonhosted.org/packages/bc/19/404708a7e54ad2798907210462fd950c3442ea51acc8790f3da48d2bee8b/opt_einsum-3.3.0-py3-none-any.whl (65kB)\n",
      "\u001b[K     |████████████████████████████████| 71kB 4.1MB/s eta 0:00:011\n",
      "\u001b[?25hCollecting astor>=0.6.0 (from tensorflow==2.1.0)\n",
      "  Downloading https://files.pythonhosted.org/packages/c3/88/97eef84f48fa04fbd6750e62dcceafba6c63c81b7ac1420856c8dcc0a3f9/astor-0.8.1-py2.py3-none-any.whl\n",
      "Collecting grpcio>=1.8.6 (from tensorflow==2.1.0)\n",
      "\u001b[?25l  Downloading https://files.pythonhosted.org/packages/29/b0/80a657d6b43aa71728abc35bcbc4c4c691328633e98b38154ba600d29061/grpcio-1.35.0-cp37-cp37m-macosx_10_10_x86_64.whl (3.7MB)\n",
      "\u001b[K     |████████████████████████████████| 3.7MB 26.5MB/s eta 0:00:01     |█████████████████▍              | 2.0MB 26.5MB/s eta 0:00:01\n",
      "\u001b[?25hCollecting keras-preprocessing>=1.1.0 (from tensorflow==2.1.0)\n",
      "\u001b[?25l  Downloading https://files.pythonhosted.org/packages/79/4c/7c3275a01e12ef9368a892926ab932b33bb13d55794881e3573482b378a7/Keras_Preprocessing-1.1.2-py2.py3-none-any.whl (42kB)\n",
      "\u001b[K     |████████████████████████████████| 51kB 2.8MB/s eta 0:00:011\n",
      "\u001b[?25hCollecting google-pasta>=0.1.6 (from tensorflow==2.1.0)\n",
      "\u001b[?25l  Downloading https://files.pythonhosted.org/packages/a3/de/c648ef6835192e6e2cc03f40b19eeda4382c49b5bafb43d88b931c4c74ac/google_pasta-0.2.0-py3-none-any.whl (57kB)\n",
      "\u001b[K     |████████████████████████████████| 61kB 3.9MB/s eta 0:00:011\n",
      "\u001b[?25hCollecting tensorboard<2.2.0,>=2.1.0 (from tensorflow==2.1.0)\n",
      "\u001b[?25l  Downloading https://files.pythonhosted.org/packages/d9/41/bbf49b61370e4f4d245d4c6051dfb6db80cec672605c91b1652ac8cc3d38/tensorboard-2.1.1-py3-none-any.whl (3.8MB)\n",
      "\u001b[K     |████████████████████████████████| 3.9MB 24.0MB/s eta 0:00:01\n",
      "\u001b[?25hRequirement already satisfied: wrapt>=1.11.1 in /Users/santhoshputtaraju/anaconda3/lib/python3.7/site-packages (from tensorflow==2.1.0) (1.11.2)\n",
      "Collecting keras-applications>=1.0.8 (from tensorflow==2.1.0)\n",
      "  Using cached https://files.pythonhosted.org/packages/71/e3/19762fdfc62877ae9102edf6342d71b28fbfd9dea3d2f96a882ce099b03f/Keras_Applications-1.0.8-py3-none-any.whl\n",
      "Collecting scipy==1.4.1; python_version >= \"3\" (from tensorflow==2.1.0)\n",
      "\u001b[?25l  Downloading https://files.pythonhosted.org/packages/85/7a/ae480be23b768910a9327c33517ced4623ba88dc035f9ce0206657c353a9/scipy-1.4.1-cp37-cp37m-macosx_10_6_intel.whl (28.4MB)\n",
      "\u001b[K     |████████████████████████████████| 28.4MB 1.1MB/s  eta 0:00:01    |███▎                            | 2.9MB 25.1MB/s eta 0:00:02\n",
      "\u001b[?25hRequirement already satisfied: six>=1.12.0 in /Users/santhoshputtaraju/anaconda3/lib/python3.7/site-packages (from tensorflow==2.1.0) (1.12.0)\n",
      "Collecting termcolor>=1.1.0 (from tensorflow==2.1.0)\n",
      "  Downloading https://files.pythonhosted.org/packages/8a/48/a76be51647d0eb9f10e2a4511bf3ffb8cc1e6b14e9e4fab46173aa79f981/termcolor-1.1.0.tar.gz\n",
      "Requirement already satisfied: numpy<2.0,>=1.16.0 in /Users/santhoshputtaraju/anaconda3/lib/python3.7/site-packages (from tensorflow==2.1.0) (1.17.2)\n",
      "Collecting gast==0.2.2 (from tensorflow==2.1.0)\n",
      "  Using cached https://files.pythonhosted.org/packages/4e/35/11749bf99b2d4e3cceb4d55ca22590b0d7c2c62b9de38ac4a4a7f4687421/gast-0.2.2.tar.gz\n",
      "Requirement already satisfied: wheel>=0.26; python_version >= \"3\" in /Users/santhoshputtaraju/anaconda3/lib/python3.7/site-packages (from tensorflow==2.1.0) (0.33.6)\n",
      "Requirement already satisfied: werkzeug>=0.11.15 in /Users/santhoshputtaraju/anaconda3/lib/python3.7/site-packages (from tensorboard<2.2.0,>=2.1.0->tensorflow==2.1.0) (0.16.0)\n",
      "Collecting google-auth<2,>=1.6.3 (from tensorboard<2.2.0,>=2.1.0->tensorflow==2.1.0)\n",
      "\u001b[?25l  Downloading https://files.pythonhosted.org/packages/3e/fd/df1b3a59aca9537a187413651ad63b290d165559150a868a298fa837fe7b/google_auth-1.24.0-py2.py3-none-any.whl (114kB)\n",
      "\u001b[K     |████████████████████████████████| 122kB 10.6MB/s eta 0:00:01\n",
      "\u001b[?25hRequirement already satisfied: setuptools>=41.0.0 in /Users/santhoshputtaraju/anaconda3/lib/python3.7/site-packages (from tensorboard<2.2.0,>=2.1.0->tensorflow==2.1.0) (41.4.0)\n",
      "Requirement already satisfied: requests<3,>=2.21.0 in /Users/santhoshputtaraju/anaconda3/lib/python3.7/site-packages (from tensorboard<2.2.0,>=2.1.0->tensorflow==2.1.0) (2.22.0)\n",
      "Collecting markdown>=2.6.8 (from tensorboard<2.2.0,>=2.1.0->tensorflow==2.1.0)\n",
      "\u001b[?25l  Downloading https://files.pythonhosted.org/packages/ac/ef/24a91ca96efa0d7802dffb83ccc7a3c677027bea19ec3c9ee80be740408e/Markdown-3.3.3-py3-none-any.whl (96kB)\n",
      "\u001b[K     |████████████████████████████████| 102kB 15.2MB/s ta 0:00:01\n",
      "\u001b[?25hCollecting google-auth-oauthlib<0.5,>=0.4.1 (from tensorboard<2.2.0,>=2.1.0->tensorflow==2.1.0)\n",
      "  Downloading https://files.pythonhosted.org/packages/81/67/e2c34bb0628984c7ce71cce6ba6964cb29c418873847fc285f826e032e6e/google_auth_oauthlib-0.4.2-py2.py3-none-any.whl\n",
      "Requirement already satisfied: h5py in /Users/santhoshputtaraju/anaconda3/lib/python3.7/site-packages (from keras-applications>=1.0.8->tensorflow==2.1.0) (2.9.0)\n",
      "Collecting cachetools<5.0,>=2.0.0 (from google-auth<2,>=1.6.3->tensorboard<2.2.0,>=2.1.0->tensorflow==2.1.0)\n",
      "  Downloading https://files.pythonhosted.org/packages/bb/72/8df2e0dc991f1a1d2c6869404e7622e8ee50d80bff357dbb57c3df70305b/cachetools-4.2.1-py3-none-any.whl\n",
      "Collecting rsa<5,>=3.1.4; python_version >= \"3.6\" (from google-auth<2,>=1.6.3->tensorboard<2.2.0,>=2.1.0->tensorflow==2.1.0)\n",
      "  Downloading https://files.pythonhosted.org/packages/bf/87/dc7a6ebf0afbc602548627fa48e9c1147fa187233bf71d4c51c76a2cfb27/rsa-4.7-py3-none-any.whl\n",
      "Collecting pyasn1-modules>=0.2.1 (from google-auth<2,>=1.6.3->tensorboard<2.2.0,>=2.1.0->tensorflow==2.1.0)\n",
      "\u001b[?25l  Downloading https://files.pythonhosted.org/packages/95/de/214830a981892a3e286c3794f41ae67a4495df1108c3da8a9f62159b9a9d/pyasn1_modules-0.2.8-py2.py3-none-any.whl (155kB)\n",
      "\u001b[K     |████████████████████████████████| 163kB 28.2MB/s eta 0:00:01\n",
      "\u001b[?25hRequirement already satisfied: urllib3!=1.25.0,!=1.25.1,<1.26,>=1.21.1 in /Users/santhoshputtaraju/anaconda3/lib/python3.7/site-packages (from requests<3,>=2.21.0->tensorboard<2.2.0,>=2.1.0->tensorflow==2.1.0) (1.24.2)\n",
      "Requirement already satisfied: idna<2.9,>=2.5 in /Users/santhoshputtaraju/anaconda3/lib/python3.7/site-packages (from requests<3,>=2.21.0->tensorboard<2.2.0,>=2.1.0->tensorflow==2.1.0) (2.8)\n",
      "Requirement already satisfied: chardet<3.1.0,>=3.0.2 in /Users/santhoshputtaraju/anaconda3/lib/python3.7/site-packages (from requests<3,>=2.21.0->tensorboard<2.2.0,>=2.1.0->tensorflow==2.1.0) (3.0.4)\n",
      "Requirement already satisfied: certifi>=2017.4.17 in /Users/santhoshputtaraju/anaconda3/lib/python3.7/site-packages (from requests<3,>=2.21.0->tensorboard<2.2.0,>=2.1.0->tensorflow==2.1.0) (2019.9.11)\n",
      "Requirement already satisfied: importlib-metadata; python_version < \"3.8\" in /Users/santhoshputtaraju/anaconda3/lib/python3.7/site-packages (from markdown>=2.6.8->tensorboard<2.2.0,>=2.1.0->tensorflow==2.1.0) (0.23)\n"
     ]
    },
    {
     "name": "stdout",
     "output_type": "stream",
     "text": [
      "Collecting requests-oauthlib>=0.7.0 (from google-auth-oauthlib<0.5,>=0.4.1->tensorboard<2.2.0,>=2.1.0->tensorflow==2.1.0)\n",
      "  Downloading https://files.pythonhosted.org/packages/a3/12/b92740d845ab62ea4edf04d2f4164d82532b5a0b03836d4d4e71c6f3d379/requests_oauthlib-1.3.0-py2.py3-none-any.whl\n",
      "Collecting pyasn1>=0.1.3 (from rsa<5,>=3.1.4; python_version >= \"3.6\"->google-auth<2,>=1.6.3->tensorboard<2.2.0,>=2.1.0->tensorflow==2.1.0)\n",
      "\u001b[?25l  Downloading https://files.pythonhosted.org/packages/62/1e/a94a8d635fa3ce4cfc7f506003548d0a2447ae76fd5ca53932970fe3053f/pyasn1-0.4.8-py2.py3-none-any.whl (77kB)\n",
      "\u001b[K     |████████████████████████████████| 81kB 7.2MB/s eta 0:00:011\n",
      "\u001b[?25hRequirement already satisfied: zipp>=0.5 in /Users/santhoshputtaraju/anaconda3/lib/python3.7/site-packages (from importlib-metadata; python_version < \"3.8\"->markdown>=2.6.8->tensorboard<2.2.0,>=2.1.0->tensorflow==2.1.0) (0.6.0)\n",
      "Collecting oauthlib>=3.0.0 (from requests-oauthlib>=0.7.0->google-auth-oauthlib<0.5,>=0.4.1->tensorboard<2.2.0,>=2.1.0->tensorflow==2.1.0)\n",
      "\u001b[?25l  Downloading https://files.pythonhosted.org/packages/05/57/ce2e7a8fa7c0afb54a0581b14a65b56e62b5759dbc98e80627142b8a3704/oauthlib-3.1.0-py2.py3-none-any.whl (147kB)\n",
      "\u001b[K     |████████████████████████████████| 153kB 24.3MB/s eta 0:00:01\n",
      "\u001b[?25hRequirement already satisfied: more-itertools in /Users/santhoshputtaraju/anaconda3/lib/python3.7/site-packages (from zipp>=0.5->importlib-metadata; python_version < \"3.8\"->markdown>=2.6.8->tensorboard<2.2.0,>=2.1.0->tensorflow==2.1.0) (7.2.0)\n",
      "Building wheels for collected packages: termcolor, gast\n",
      "  Building wheel for termcolor (setup.py) ... \u001b[?25ldone\n",
      "\u001b[?25h  Created wheel for termcolor: filename=termcolor-1.1.0-cp37-none-any.whl size=4832 sha256=f230a71b36838f4331a7187d4be1f0a51ea67c806825239f38c1655c4ba728d4\n",
      "  Stored in directory: /Users/santhoshputtaraju/Library/Caches/pip/wheels/7c/06/54/bc84598ba1daf8f970247f550b175aaaee85f68b4b0c5ab2c6\n",
      "  Building wheel for gast (setup.py) ... \u001b[?25ldone\n",
      "\u001b[?25h  Created wheel for gast: filename=gast-0.2.2-cp37-none-any.whl size=7540 sha256=9d03e1382cbb1e584dbcef1a1a74411f9120fdcb102150568b4cb943fde02e73\n",
      "  Stored in directory: /Users/santhoshputtaraju/Library/Caches/pip/wheels/5c/2e/7e/a1d4d4fcebe6c381f378ce7743a3ced3699feb89bcfbdadadd\n",
      "Successfully built termcolor gast\n",
      "Installing collected packages: absl-py, tensorflow-estimator, protobuf, opt-einsum, astor, grpcio, keras-preprocessing, google-pasta, cachetools, pyasn1, rsa, pyasn1-modules, google-auth, markdown, oauthlib, requests-oauthlib, google-auth-oauthlib, tensorboard, keras-applications, scipy, termcolor, gast, tensorflow\n",
      "  Found existing installation: scipy 1.3.1\n",
      "    Uninstalling scipy-1.3.1:\n",
      "      Successfully uninstalled scipy-1.3.1\n",
      "Successfully installed absl-py-0.11.0 astor-0.8.1 cachetools-4.2.1 gast-0.2.2 google-auth-1.24.0 google-auth-oauthlib-0.4.2 google-pasta-0.2.0 grpcio-1.35.0 keras-applications-1.0.8 keras-preprocessing-1.1.2 markdown-3.3.3 oauthlib-3.1.0 opt-einsum-3.3.0 protobuf-3.14.0 pyasn1-0.4.8 pyasn1-modules-0.2.8 requests-oauthlib-1.3.0 rsa-4.7 scipy-1.4.1 tensorboard-2.1.1 tensorflow-2.1.0 tensorflow-estimator-2.1.0 termcolor-1.1.0\n"
     ]
    }
   ],
   "source": [
    "# !pip install --ignore-installed --upgrade tensorflow==2.2.0\n",
    "!pip install tensorflow==2.1.0"
   ]
  },
  {
   "cell_type": "code",
   "execution_count": 18,
   "metadata": {
    "id": "mQz4N2NTmQDB"
   },
   "outputs": [
    {
     "name": "stdout",
     "output_type": "stream",
     "text": [
      "2021-02-02 00:15:18.143216: I tensorflow/core/platform/cpu_feature_guard.cc:142] Your CPU supports instructions that this TensorFlow binary was not compiled to use: AVX2 FMA\n",
      "2021-02-02 00:15:18.168044: I tensorflow/compiler/xla/service/service.cc:168] XLA service 0x7fe48c851400 initialized for platform Host (this does not guarantee that XLA will be used). Devices:\n",
      "2021-02-02 00:15:18.168075: I tensorflow/compiler/xla/service/service.cc:176]   StreamExecutor device (0): Host, Default Version\n",
      "tf.Tensor(251.6767, shape=(), dtype=float32)\n"
     ]
    }
   ],
   "source": [
    "!python -c \"import tensorflow as tf;print(tf.reduce_sum(tf.random.normal([1000, 1000])))\""
   ]
  },
  {
   "cell_type": "code",
   "execution_count": 22,
   "metadata": {
    "id": "B-rnI-5WYWRt"
   },
   "outputs": [
    {
     "name": "stdout",
     "output_type": "stream",
     "text": [
      "/Users/santhoshputtaraju/Desktop/OCR/bankchecks\n",
      "bank_check_model_training.ipynb    \u001b[34mresults_and_postprocessing_script\u001b[m\u001b[m\r\n",
      "bank_check_ssd_object_detect.ipynb \u001b[34mscripts\u001b[m\u001b[m\r\n",
      "\u001b[34mcheck_train_images\u001b[m\u001b[m                 \u001b[34mworkspace\u001b[m\u001b[m\r\n",
      "\u001b[34mmodels\u001b[m\u001b[m\r\n"
     ]
    }
   ],
   "source": [
    "%cd /Users/santhoshputtaraju/Desktop/OCR/bankchecks\n",
    "!ls"
   ]
  },
  {
   "cell_type": "code",
   "execution_count": 21,
   "metadata": {
    "id": "gywjHCyUYCBF"
   },
   "outputs": [],
   "source": [
    "!protoc object_detection/protos/*.proto --python_out=."
   ]
  },
  {
   "cell_type": "code",
   "execution_count": 24,
   "metadata": {
    "colab": {
     "base_uri": "https://localhost:8080/"
    },
    "executionInfo": {
     "elapsed": 121873,
     "status": "ok",
     "timestamp": 1608753559919,
     "user": {
      "displayName": "Rochana Rumalshan",
      "photoUrl": "https://lh3.googleusercontent.com/a-/AOh14GgwjR7UqJKgUftQ5ioZZHm-x1FtjT4Oz4Xygq9T=s64",
      "userId": "05290604734228202310"
     },
     "user_tz": -330
    },
    "id": "7EzkF6VbDMnt",
    "outputId": "e0d4998e-7428-446c-dda6-e0ccf93f86a6"
   },
   "outputs": [
    {
     "name": "stdout",
     "output_type": "stream",
     "text": [
      "Successfully created the TFRecord file: workspace/training_demo/annotations/train.record\n",
      "Successfully created the TFRecord file: workspace/training_demo/annotations/test.record\n"
     ]
    }
   ],
   "source": [
    "# Create train data:\n",
    "!python scripts/preprocessing/generate_tfrecord.py -x workspace/training_demo/images/train -l workspace/training_demo/annotations/label_map.pbtxt -o workspace/training_demo/annotations/train.record\n",
    "# Create test data:\n",
    "!python scripts/preprocessing/generate_tfrecord.py -x workspace/training_demo/images/test -l workspace/training_demo/annotations/label_map.pbtxt -o workspace/training_demo/annotations/test.record"
   ]
  },
  {
   "cell_type": "code",
   "execution_count": 25,
   "metadata": {
    "colab": {
     "base_uri": "https://localhost:8080/"
    },
    "executionInfo": {
     "elapsed": 3671,
     "status": "ok",
     "timestamp": 1608828179334,
     "user": {
      "displayName": "Rochana Rumalshan",
      "photoUrl": "https://lh3.googleusercontent.com/a-/AOh14GgwjR7UqJKgUftQ5ioZZHm-x1FtjT4Oz4Xygq9T=s64",
      "userId": "05290604734228202310"
     },
     "user_tz": -330
    },
    "id": "gdSFEkTBgoKL",
    "outputId": "725b6bbd-b0ff-4fac-915d-c27d53dbb2c9"
   },
   "outputs": [
    {
     "name": "stdout",
     "output_type": "stream",
     "text": [
      "/Users/santhoshputtaraju/Desktop/OCR/bankchecks/workspace/training_demo\n",
      "README.md           \u001b[34mexported-models\u001b[m\u001b[m     \u001b[34mimages\u001b[m\u001b[m              \u001b[34mmodels\u001b[m\u001b[m\r\n",
      "\u001b[34mannotations\u001b[m\u001b[m         exporter_main_v2.py model_main_tf2.py   \u001b[34mpre-trained-models\u001b[m\u001b[m\r\n"
     ]
    }
   ],
   "source": [
    "%cd /Users/santhoshputtaraju/Desktop/OCR/bankchecks/workspace/training_demo\n",
    "!ls"
   ]
  },
  {
   "cell_type": "code",
   "execution_count": 26,
   "metadata": {
    "id": "4p1LHlw7pwVj"
   },
   "outputs": [
    {
     "name": "stdout",
     "output_type": "stream",
     "text": [
      "Collecting tf_slim\n",
      "\u001b[?25l  Downloading https://files.pythonhosted.org/packages/02/97/b0f4a64df018ca018cc035d44f2ef08f91e2e8aa67271f6f19633a015ff7/tf_slim-1.1.0-py2.py3-none-any.whl (352kB)\n",
      "\u001b[K     |████████████████████████████████| 358kB 4.4MB/s eta 0:00:01\n",
      "\u001b[?25hRequirement already satisfied: absl-py>=0.2.2 in /Users/santhoshputtaraju/anaconda3/lib/python3.7/site-packages (from tf_slim) (0.11.0)\n",
      "Requirement already satisfied: six in /Users/santhoshputtaraju/anaconda3/lib/python3.7/site-packages (from absl-py>=0.2.2->tf_slim) (1.12.0)\n",
      "Installing collected packages: tf-slim\n",
      "Successfully installed tf-slim-1.1.0\n"
     ]
    }
   ],
   "source": [
    "!pip install tf_slim"
   ]
  },
  {
   "cell_type": "code",
   "execution_count": 27,
   "metadata": {
    "id": "xVTna3eWqtjr"
   },
   "outputs": [
    {
     "name": "stdout",
     "output_type": "stream",
     "text": [
      "Collecting tf-models-official\n",
      "\u001b[?25l  Downloading https://files.pythonhosted.org/packages/57/4a/23a08f8fd2747867ee223612e219eeb0d11c36116601d99b55ef3c72e707/tf_models_official-2.4.0-py2.py3-none-any.whl (1.1MB)\n",
      "\u001b[K     |████████████████████████████████| 1.1MB 5.1MB/s eta 0:00:01\n",
      "\u001b[?25hCollecting seqeval (from tf-models-official)\n",
      "\u001b[?25l  Downloading https://files.pythonhosted.org/packages/9d/2d/233c79d5b4e5ab1dbf111242299153f3caddddbb691219f363ad55ce783d/seqeval-1.2.2.tar.gz (43kB)\n",
      "\u001b[K     |████████████████████████████████| 51kB 3.5MB/s eta 0:00:011\n",
      "\u001b[?25hCollecting oauth2client (from tf-models-official)\n",
      "\u001b[?25l  Downloading https://files.pythonhosted.org/packages/95/a9/4f25a14d23f0786b64875b91784607c2277eff25d48f915e39ff0cff505a/oauth2client-4.1.3-py2.py3-none-any.whl (98kB)\n",
      "\u001b[K     |████████████████████████████████| 102kB 3.4MB/s ta 0:00:011\n",
      "\u001b[?25hRequirement already satisfied: numpy>=1.15.4 in /Users/santhoshputtaraju/anaconda3/lib/python3.7/site-packages (from tf-models-official) (1.17.2)\n",
      "Collecting gin-config (from tf-models-official)\n",
      "\u001b[?25l  Downloading https://files.pythonhosted.org/packages/d7/b1/c4950247902f430376c7d9c8a7811269150e66e0207b74330de181dd6779/gin_config-0.4.0-py2.py3-none-any.whl (46kB)\n",
      "\u001b[K     |████████████████████████████████| 51kB 2.2MB/s eta 0:00:011\n",
      "\u001b[?25hCollecting py-cpuinfo>=3.3.0 (from tf-models-official)\n",
      "\u001b[?25l  Downloading https://files.pythonhosted.org/packages/f6/f5/8e6e85ce2e9f6e05040cf0d4e26f43a4718bcc4bce988b433276d4b1a5c1/py-cpuinfo-7.0.0.tar.gz (95kB)\n",
      "\u001b[K     |████████████████████████████████| 102kB 3.4MB/s ta 0:00:011\n",
      "\u001b[?25hCollecting dataclasses (from tf-models-official)\n",
      "  Downloading https://files.pythonhosted.org/packages/26/2f/1095cdc2868052dd1e64520f7c0d5c8c550ad297e944e641dbf1ffbb9a5d/dataclasses-0.6-py3-none-any.whl\n",
      "Requirement already satisfied: pyyaml>=5.1 in /Users/santhoshputtaraju/anaconda3/lib/python3.7/site-packages (from tf-models-official) (5.1.2)\n",
      "Collecting pycocotools (from tf-models-official)\n",
      "  Downloading https://files.pythonhosted.org/packages/de/df/056875d697c45182ed6d2ae21f62015896fdb841906fe48e7268e791c467/pycocotools-2.0.2.tar.gz\n",
      "Requirement already satisfied: psutil>=5.4.3 in /Users/santhoshputtaraju/anaconda3/lib/python3.7/site-packages (from tf-models-official) (5.6.3)\n",
      "Collecting google-cloud-bigquery>=0.31.0 (from tf-models-official)\n",
      "\u001b[?25l  Downloading https://files.pythonhosted.org/packages/25/af/d57c588f6330e0ec5690a4f56cad5dc9e9e680e227eaa608abd246df2afb/google_cloud_bigquery-2.7.0-py2.py3-none-any.whl (211kB)\n",
      "\u001b[K     |████████████████████████████████| 215kB 8.4MB/s eta 0:00:01\n",
      "\u001b[?25hRequirement already satisfied: scipy>=0.19.1 in /Users/santhoshputtaraju/anaconda3/lib/python3.7/site-packages (from tf-models-official) (1.4.1)\n",
      "Collecting tensorflow-addons (from tf-models-official)\n",
      "\u001b[?25l  Downloading https://files.pythonhosted.org/packages/9a/f3/25378597617bb11a40920f9f1486b70e6695d0bf4c307aa85002fafee647/tensorflow_addons-0.12.1-cp37-cp37m-macosx_10_13_x86_64.whl (515kB)\n",
      "\u001b[K     |████████████████████████████████| 522kB 10.0MB/s eta 0:00:01\n",
      "\u001b[?25hRequirement already satisfied: Cython in /Users/santhoshputtaraju/anaconda3/lib/python3.7/site-packages (from tf-models-official) (0.29.13)\n",
      "Collecting tensorflow>=2.4.0 (from tf-models-official)\n",
      "\u001b[?25l  Downloading https://files.pythonhosted.org/packages/7b/61/743150d9cf5e028ac5cdd694ea26968a37ae054728c9d290c72c2687a982/tensorflow-2.4.1-cp37-cp37m-macosx_10_11_x86_64.whl (173.9MB)\n",
      "\u001b[K     |████████████████████████████████| 173.9MB 128kB/s  eta 0:00:01    |███████▊                        | 42.0MB 8.2MB/s eta 0:00:17     |████████▍                       | 45.3MB 8.2MB/s eta 0:00:16     |██████████████▎                 | 77.3MB 26.6MB/s eta 0:00:04     |███████████████▌                | 84.1MB 14.6MB/s eta 0:00:07▍              | 94.3MB 14.6MB/s eta 0:00:06███████▉             | 102.6MB 1.5MB/s eta 0:00:47     |███████████████████▋            | 106.5MB 1.5MB/s eta 0:00:45\n",
      "\u001b[?25hRequirement already satisfied: pandas>=0.22.0 in /Users/santhoshputtaraju/anaconda3/lib/python3.7/site-packages (from tf-models-official) (0.25.1)\n",
      "Requirement already satisfied: tf-slim>=1.1.0 in /Users/santhoshputtaraju/anaconda3/lib/python3.7/site-packages (from tf-models-official) (1.1.0)\n",
      "Collecting opencv-python-headless (from tf-models-official)\n",
      "\u001b[?25l  Downloading https://files.pythonhosted.org/packages/4a/c3/6a2cf67067e6d8c5aadb7cbae891a774cfc9e63ef35f7e8e74fa6636a9ef/opencv_python_headless-4.5.1.48-cp37-cp37m-macosx_10_13_x86_64.whl (40.3MB)\n",
      "\u001b[K     |████████████████████████████████| 40.3MB 12.8MB/s eta 0:00:01     |█████████████████████████████▉  | 37.6MB 12.8MB/s eta 0:00:01     |██████████████████████████████  | 37.8MB 12.8MB/s eta 0:00:01\n",
      "\u001b[?25hRequirement already satisfied: matplotlib in /Users/santhoshputtaraju/anaconda3/lib/python3.7/site-packages (from tf-models-official) (3.1.1)\n",
      "Requirement already satisfied: Pillow in /Users/santhoshputtaraju/anaconda3/lib/python3.7/site-packages (from tf-models-official) (6.2.0)\n",
      "Collecting tensorflow-datasets (from tf-models-official)\n",
      "\u001b[?25l  Downloading https://files.pythonhosted.org/packages/d3/91/c3e36695ca04e6f3c2d920887d7dc36550f6bbb03d7d5fd03c2172b06d97/tensorflow_datasets-4.2.0-py3-none-any.whl (3.7MB)\n",
      "\u001b[K     |████████████████████████████████| 3.7MB 27.9MB/s eta 0:00:01\n",
      "\u001b[?25hCollecting tensorflow-hub>=0.6.0 (from tf-models-official)\n",
      "\u001b[?25l  Downloading https://files.pythonhosted.org/packages/f4/1f/ca72fa5400954903aa6f3354142cd66374604384fb13429af9e41b12120d/tensorflow_hub-0.11.0-py2.py3-none-any.whl (107kB)\n",
      "\u001b[K     |████████████████████████████████| 112kB 6.6MB/s eta 0:00:01\n",
      "\u001b[?25hCollecting kaggle>=1.3.9 (from tf-models-official)\n",
      "\u001b[?25l  Downloading https://files.pythonhosted.org/packages/99/33/365c0d13f07a2a54744d027fe20b60dacdfdfb33bc04746db6ad0b79340b/kaggle-1.5.10.tar.gz (59kB)\n",
      "\u001b[K     |████████████████████████████████| 61kB 4.0MB/s eta 0:00:011\n",
      "\u001b[?25hCollecting tensorflow-model-optimization>=0.4.1 (from tf-models-official)\n",
      "\u001b[?25l  Downloading https://files.pythonhosted.org/packages/55/38/4fd48ea1bfcb0b6e36d949025200426fe9c3a8bfae029f0973d85518fa5a/tensorflow_model_optimization-0.5.0-py2.py3-none-any.whl (172kB)\n",
      "\u001b[K     |████████████████████████████████| 174kB 20.1MB/s eta 0:00:01\n",
      "\u001b[?25hCollecting sentencepiece (from tf-models-official)\n",
      "\u001b[?25l  Downloading https://files.pythonhosted.org/packages/40/62/ac0a3bf69c1149e509bc32c3efaf0a3e309a51ea3dfa8f8f7a42895c99fa/sentencepiece-0.1.95-cp37-cp37m-macosx_10_6_x86_64.whl (1.1MB)\n",
      "\u001b[K     |████████████████████████████████| 1.1MB 16.6MB/s eta 0:00:01\n",
      "\u001b[?25hRequirement already satisfied: six in /Users/santhoshputtaraju/anaconda3/lib/python3.7/site-packages (from tf-models-official) (1.12.0)\n",
      "Collecting google-api-python-client>=1.6.7 (from tf-models-official)\n",
      "\u001b[?25l  Downloading https://files.pythonhosted.org/packages/83/fc/98045b8c5e0ba12929d423e9ff6b742951bb846707539b18f19b27c6ddc3/google_api_python_client-1.12.8-py2.py3-none-any.whl (61kB)\n",
      "\u001b[K     |████████████████████████████████| 71kB 4.9MB/s eta 0:00:011\n",
      "\u001b[?25hRequirement already satisfied: scikit-learn>=0.21.3 in /Users/santhoshputtaraju/anaconda3/lib/python3.7/site-packages (from seqeval->tf-models-official) (0.21.3)\n",
      "Requirement already satisfied: rsa>=3.1.4 in /Users/santhoshputtaraju/anaconda3/lib/python3.7/site-packages (from oauth2client->tf-models-official) (4.7)\n",
      "Collecting httplib2>=0.9.1 (from oauth2client->tf-models-official)\n",
      "\u001b[?25l  Downloading https://files.pythonhosted.org/packages/b3/ad/d9d9331850ea5bd4f5cb8c650c0bfa119a4abd6b0ad7c45b6506bc979fc0/httplib2-0.18.1-py3-none-any.whl (95kB)\n",
      "\u001b[K     |████████████████████████████████| 102kB 7.2MB/s ta 0:00:011\n",
      "\u001b[?25hRequirement already satisfied: pyasn1-modules>=0.0.5 in /Users/santhoshputtaraju/anaconda3/lib/python3.7/site-packages (from oauth2client->tf-models-official) (0.2.8)\n",
      "Requirement already satisfied: pyasn1>=0.1.7 in /Users/santhoshputtaraju/anaconda3/lib/python3.7/site-packages (from oauth2client->tf-models-official) (0.4.8)\n",
      "Requirement already satisfied: setuptools>=18.0 in /Users/santhoshputtaraju/anaconda3/lib/python3.7/site-packages (from pycocotools->tf-models-official) (41.4.0)\n",
      "Collecting google-resumable-media<2.0dev,>=0.6.0 (from google-cloud-bigquery>=0.31.0->tf-models-official)\n"
     ]
    },
    {
     "name": "stdout",
     "output_type": "stream",
     "text": [
      "\u001b[?25l  Downloading https://files.pythonhosted.org/packages/22/52/4b086e0d15245b648e2b6d408fb2f2974a3a5a405de5d7fae25cd085a3fa/google_resumable_media-1.2.0-py2.py3-none-any.whl (75kB)\n",
      "\u001b[K     |████████████████████████████████| 81kB 4.1MB/s eta 0:00:011\n",
      "\u001b[?25hCollecting google-api-core[grpc]<2.0.0dev,>=1.23.0 (from google-cloud-bigquery>=0.31.0->tf-models-official)\n",
      "\u001b[?25l  Downloading https://files.pythonhosted.org/packages/2c/fb/2ec182926a23b2e13d07680ba667599939059abf62a16fa2689d22de47f8/google_api_core-1.25.1-py2.py3-none-any.whl (92kB)\n",
      "\u001b[K     |████████████████████████████████| 102kB 7.3MB/s ta 0:00:011\n",
      "\u001b[?25hCollecting proto-plus>=1.10.0 (from google-cloud-bigquery>=0.31.0->tf-models-official)\n",
      "\u001b[?25l  Downloading https://files.pythonhosted.org/packages/e8/e0/59ad1e6a7d62259027e9b48aedfc95ba63f9336b803d1b174769bcb2c7f9/proto-plus-1.13.0.tar.gz (44kB)\n",
      "\u001b[K     |████████████████████████████████| 51kB 2.8MB/s eta 0:00:011\n",
      "\u001b[?25hRequirement already satisfied: protobuf>=3.12.0 in /Users/santhoshputtaraju/anaconda3/lib/python3.7/site-packages (from google-cloud-bigquery>=0.31.0->tf-models-official) (3.14.0)\n",
      "Collecting google-cloud-core<2.0dev,>=1.4.1 (from google-cloud-bigquery>=0.31.0->tf-models-official)\n",
      "  Downloading https://files.pythonhosted.org/packages/36/82/d54bdbdbae02c66ec26c97eb684cfb27af82b3e286497625b815c4741792/google_cloud_core-1.5.0-py2.py3-none-any.whl\n",
      "Collecting typeguard>=2.7 (from tensorflow-addons->tf-models-official)\n",
      "  Downloading https://files.pythonhosted.org/packages/f3/28/cc6df4c26d14c338c9744dc510a8c7f1a9115f8233e7602cca140a61430c/typeguard-2.10.0-py3-none-any.whl\n",
      "Requirement already satisfied: termcolor~=1.1.0 in /Users/santhoshputtaraju/anaconda3/lib/python3.7/site-packages (from tensorflow>=2.4.0->tf-models-official) (1.1.0)\n",
      "Collecting tensorboard~=2.4 (from tensorflow>=2.4.0->tf-models-official)\n",
      "\u001b[?25l  Downloading https://files.pythonhosted.org/packages/64/21/eebd23060763fedeefb78bc2b286e00fa1d8abda6f70efa2ee08c28af0d4/tensorboard-2.4.1-py3-none-any.whl (10.6MB)\n",
      "\u001b[K     |████████████████████████████████| 10.6MB 26.8MB/s eta 0:00:01    |███                             | 1.0MB 26.8MB/s eta 0:00:01\n",
      "\u001b[?25hCollecting h5py~=2.10.0 (from tensorflow>=2.4.0->tf-models-official)\n",
      "\u001b[?25l  Downloading https://files.pythonhosted.org/packages/1a/8b/4d01ae9a9d50a0bcc7b0b9aae41785d8d9de6fa9bba04dc20b1582181d2d/h5py-2.10.0-cp37-cp37m-macosx_10_6_intel.whl (3.0MB)\n",
      "\u001b[K     |████████████████████████████████| 3.0MB 27.5MB/s eta 0:00:01\n",
      "\u001b[?25hCollecting wrapt~=1.12.1 (from tensorflow>=2.4.0->tf-models-official)\n",
      "  Downloading https://files.pythonhosted.org/packages/82/f7/e43cefbe88c5fd371f4cf0cf5eb3feccd07515af9fd6cf7dbf1d1793a797/wrapt-1.12.1.tar.gz\n",
      "Collecting typing-extensions~=3.7.4 (from tensorflow>=2.4.0->tf-models-official)\n",
      "  Downloading https://files.pythonhosted.org/packages/60/7a/e881b5abb54db0e6e671ab088d079c57ce54e8a01a3ca443f561ccadb37e/typing_extensions-3.7.4.3-py3-none-any.whl\n",
      "Requirement already satisfied: absl-py~=0.10 in /Users/santhoshputtaraju/anaconda3/lib/python3.7/site-packages (from tensorflow>=2.4.0->tf-models-official) (0.11.0)\n",
      "Requirement already satisfied: google-pasta~=0.2 in /Users/santhoshputtaraju/anaconda3/lib/python3.7/site-packages (from tensorflow>=2.4.0->tf-models-official) (0.2.0)\n",
      "Collecting grpcio~=1.32.0 (from tensorflow>=2.4.0->tf-models-official)\n",
      "\u001b[?25l  Downloading https://files.pythonhosted.org/packages/48/16/d229a9d7d45bafecfe6b4c9ebf2053ec929efc2ffbed0b1a89ef190ef4d9/grpcio-1.32.0-cp37-cp37m-macosx_10_9_x86_64.whl (3.3MB)\n",
      "\u001b[K     |████████████████████████████████| 3.3MB 17.1MB/s eta 0:00:01\n",
      "\u001b[?25hRequirement already satisfied: keras-preprocessing~=1.1.2 in /Users/santhoshputtaraju/anaconda3/lib/python3.7/site-packages (from tensorflow>=2.4.0->tf-models-official) (1.1.2)\n",
      "Collecting gast==0.3.3 (from tensorflow>=2.4.0->tf-models-official)\n",
      "  Downloading https://files.pythonhosted.org/packages/d6/84/759f5dd23fec8ba71952d97bcc7e2c9d7d63bdc582421f3cd4be845f0c98/gast-0.3.3-py2.py3-none-any.whl\n",
      "Collecting astunparse~=1.6.3 (from tensorflow>=2.4.0->tf-models-official)\n",
      "  Downloading https://files.pythonhosted.org/packages/2b/03/13dde6512ad7b4557eb792fbcf0c653af6076b81e5941d36ec61f7ce6028/astunparse-1.6.3-py2.py3-none-any.whl\n",
      "Collecting tensorflow-estimator<2.5.0,>=2.4.0 (from tensorflow>=2.4.0->tf-models-official)\n",
      "\u001b[?25l  Downloading https://files.pythonhosted.org/packages/74/7e/622d9849abf3afb81e482ffc170758742e392ee129ce1540611199a59237/tensorflow_estimator-2.4.0-py2.py3-none-any.whl (462kB)\n",
      "\u001b[K     |████████████████████████████████| 471kB 23.8MB/s eta 0:00:01\n",
      "\u001b[?25hCollecting wheel~=0.35 (from tensorflow>=2.4.0->tf-models-official)\n",
      "  Downloading https://files.pythonhosted.org/packages/65/63/39d04c74222770ed1589c0eaba06c05891801219272420b40311cd60c880/wheel-0.36.2-py2.py3-none-any.whl\n",
      "Collecting flatbuffers~=1.12.0 (from tensorflow>=2.4.0->tf-models-official)\n",
      "  Downloading https://files.pythonhosted.org/packages/eb/26/712e578c5f14e26ae3314c39a1bdc4eb2ec2f4ddc89b708cf8e0a0d20423/flatbuffers-1.12-py2.py3-none-any.whl\n",
      "Requirement already satisfied: opt-einsum~=3.3.0 in /Users/santhoshputtaraju/anaconda3/lib/python3.7/site-packages (from tensorflow>=2.4.0->tf-models-official) (3.3.0)\n",
      "Requirement already satisfied: python-dateutil>=2.6.1 in /Users/santhoshputtaraju/anaconda3/lib/python3.7/site-packages (from pandas>=0.22.0->tf-models-official) (2.8.0)\n",
      "Requirement already satisfied: pytz>=2017.2 in /Users/santhoshputtaraju/anaconda3/lib/python3.7/site-packages (from pandas>=0.22.0->tf-models-official) (2019.3)\n",
      "Requirement already satisfied: cycler>=0.10 in /Users/santhoshputtaraju/anaconda3/lib/python3.7/site-packages (from matplotlib->tf-models-official) (0.10.0)\n",
      "Requirement already satisfied: kiwisolver>=1.0.1 in /Users/santhoshputtaraju/anaconda3/lib/python3.7/site-packages (from matplotlib->tf-models-official) (1.1.0)\n",
      "Requirement already satisfied: pyparsing!=2.0.4,!=2.1.2,!=2.1.6,>=2.0.1 in /Users/santhoshputtaraju/anaconda3/lib/python3.7/site-packages (from matplotlib->tf-models-official) (2.4.2)\n",
      "Collecting importlib-resources; python_version < \"3.9\" (from tensorflow-datasets->tf-models-official)\n",
      "  Downloading https://files.pythonhosted.org/packages/82/70/7bf5f275a738629a7252c30c8461502d3658a75363db9f4f88ddbeb9eeac/importlib_resources-5.1.0-py3-none-any.whl\n",
      "Requirement already satisfied: future in /Users/santhoshputtaraju/anaconda3/lib/python3.7/site-packages (from tensorflow-datasets->tf-models-official) (0.17.1)\n",
      "Collecting tensorflow-metadata (from tensorflow-datasets->tf-models-official)\n",
      "\u001b[?25l  Downloading https://files.pythonhosted.org/packages/84/c1/49bc4de13ab35d29f836cf54e42645a54b469711dc15f3d1bc8f6e80fbb7/tensorflow_metadata-0.27.0-py3-none-any.whl (47kB)\n",
      "\u001b[K     |████████████████████████████████| 51kB 3.2MB/s eta 0:00:011\n",
      "\u001b[?25hRequirement already satisfied: tqdm in /Users/santhoshputtaraju/anaconda3/lib/python3.7/site-packages (from tensorflow-datasets->tf-models-official) (4.36.1)\n",
      "Requirement already satisfied: attrs>=18.1.0 in /Users/santhoshputtaraju/anaconda3/lib/python3.7/site-packages (from tensorflow-datasets->tf-models-official) (19.2.0)\n",
      "Requirement already satisfied: requests>=2.19.0 in /Users/santhoshputtaraju/anaconda3/lib/python3.7/site-packages (from tensorflow-datasets->tf-models-official) (2.22.0)\n",
      "Collecting dill (from tensorflow-datasets->tf-models-official)\n",
      "\u001b[?25l  Downloading https://files.pythonhosted.org/packages/52/d6/79f40d230895fa1ce3b6af0d22e0ac79c65175dc069c194b79cc8e05a033/dill-0.3.3-py2.py3-none-any.whl (81kB)\n",
      "\u001b[K     |████████████████████████████████| 81kB 4.5MB/s eta 0:00:011\n",
      "\u001b[?25hCollecting promise (from tensorflow-datasets->tf-models-official)\n",
      "  Downloading https://files.pythonhosted.org/packages/cf/9c/fb5d48abfe5d791cd496e4242ebcf87a4bb2e0c3dcd6e0ae68c11426a528/promise-2.3.tar.gz\n",
      "Requirement already satisfied: certifi in /Users/santhoshputtaraju/anaconda3/lib/python3.7/site-packages (from kaggle>=1.3.9->tf-models-official) (2019.9.11)\n",
      "Collecting python-slugify (from kaggle>=1.3.9->tf-models-official)\n",
      "  Downloading https://files.pythonhosted.org/packages/9f/42/e336f96a8b6007428df772d0d159b8eee9b2f1811593a4931150660402c0/python-slugify-4.0.1.tar.gz\n",
      "Requirement already satisfied: urllib3 in /Users/santhoshputtaraju/anaconda3/lib/python3.7/site-packages (from kaggle>=1.3.9->tf-models-official) (1.24.2)\n"
     ]
    },
    {
     "name": "stdout",
     "output_type": "stream",
     "text": [
      "Collecting dm-tree~=0.1.1 (from tensorflow-model-optimization>=0.4.1->tf-models-official)\n",
      "\u001b[?25l  Downloading https://files.pythonhosted.org/packages/13/c2/079b00ebf0cfb7804df3e7547d4e24ad0142d81ed178716a651c33ccc632/dm_tree-0.1.5-cp37-cp37m-macosx_10_9_x86_64.whl (94kB)\n",
      "\u001b[K     |████████████████████████████████| 102kB 6.8MB/s ta 0:00:011\n",
      "\u001b[?25hCollecting google-auth-httplib2>=0.0.3 (from google-api-python-client>=1.6.7->tf-models-official)\n",
      "  Downloading https://files.pythonhosted.org/packages/bd/4e/992849016f8b0c27fb604aafd0a7a724db16128906197bd1245c6f18e6a1/google_auth_httplib2-0.0.4-py2.py3-none-any.whl\n",
      "Collecting uritemplate<4dev,>=3.0.0 (from google-api-python-client>=1.6.7->tf-models-official)\n",
      "  Downloading https://files.pythonhosted.org/packages/bf/0c/60d82c077998feb631608dca3cc1fe19ac074e772bf0c24cf409b977b815/uritemplate-3.0.1-py2.py3-none-any.whl\n",
      "Requirement already satisfied: google-auth>=1.16.0 in /Users/santhoshputtaraju/anaconda3/lib/python3.7/site-packages (from google-api-python-client>=1.6.7->tf-models-official) (1.24.0)\n",
      "Requirement already satisfied: joblib>=0.11 in /Users/santhoshputtaraju/anaconda3/lib/python3.7/site-packages (from scikit-learn>=0.21.3->seqeval->tf-models-official) (0.13.2)\n",
      "Collecting google-crc32c<2.0dev,>=1.0; python_version >= \"3.5\" (from google-resumable-media<2.0dev,>=0.6.0->google-cloud-bigquery>=0.31.0->tf-models-official)\n",
      "  Downloading https://files.pythonhosted.org/packages/00/da/be985bcc10265c66c0f2023aaa8ebdec97831aa4e9c329d4960c665320d0/google_crc32c-1.1.2-cp37-cp37m-macosx_10_14_x86_64.whl\n",
      "Collecting googleapis-common-protos<2.0dev,>=1.6.0 (from google-api-core[grpc]<2.0.0dev,>=1.23.0->google-cloud-bigquery>=0.31.0->tf-models-official)\n",
      "\u001b[?25l  Downloading https://files.pythonhosted.org/packages/03/74/3956721ea1eb4bcf7502a311fdaa60b85bd751de4e57d1943afe9b334141/googleapis_common_protos-1.52.0-py2.py3-none-any.whl (100kB)\n",
      "\u001b[K     |████████████████████████████████| 102kB 7.4MB/s eta 0:00:01\n",
      "\u001b[?25hRequirement already satisfied: markdown>=2.6.8 in /Users/santhoshputtaraju/anaconda3/lib/python3.7/site-packages (from tensorboard~=2.4->tensorflow>=2.4.0->tf-models-official) (3.3.3)\n",
      "Requirement already satisfied: werkzeug>=0.11.15 in /Users/santhoshputtaraju/anaconda3/lib/python3.7/site-packages (from tensorboard~=2.4->tensorflow>=2.4.0->tf-models-official) (0.16.0)\n",
      "Collecting tensorboard-plugin-wit>=1.6.0 (from tensorboard~=2.4->tensorflow>=2.4.0->tf-models-official)\n",
      "\u001b[?25l  Downloading https://files.pythonhosted.org/packages/1a/c1/499e600ba0c618b451cd9c425ae1c177249940a2086316552fee7d86c954/tensorboard_plugin_wit-1.8.0-py3-none-any.whl (781kB)\n",
      "\u001b[K     |████████████████████████████████| 788kB 32.4MB/s eta 0:00:01     |███████████████████████████████ | 757kB 32.4MB/s eta 0:00:01\n",
      "\u001b[?25hRequirement already satisfied: google-auth-oauthlib<0.5,>=0.4.1 in /Users/santhoshputtaraju/anaconda3/lib/python3.7/site-packages (from tensorboard~=2.4->tensorflow>=2.4.0->tf-models-official) (0.4.2)\n",
      "Requirement already satisfied: zipp>=0.4; python_version < \"3.8\" in /Users/santhoshputtaraju/anaconda3/lib/python3.7/site-packages (from importlib-resources; python_version < \"3.9\"->tensorflow-datasets->tf-models-official) (0.6.0)\n",
      "Requirement already satisfied: idna<2.9,>=2.5 in /Users/santhoshputtaraju/anaconda3/lib/python3.7/site-packages (from requests>=2.19.0->tensorflow-datasets->tf-models-official) (2.8)\n",
      "Requirement already satisfied: chardet<3.1.0,>=3.0.2 in /Users/santhoshputtaraju/anaconda3/lib/python3.7/site-packages (from requests>=2.19.0->tensorflow-datasets->tf-models-official) (3.0.4)\n",
      "Collecting text-unidecode>=1.3 (from python-slugify->kaggle>=1.3.9->tf-models-official)\n",
      "\u001b[?25l  Downloading https://files.pythonhosted.org/packages/a6/a5/c0b6468d3824fe3fde30dbb5e1f687b291608f9473681bbf7dabbf5a87d7/text_unidecode-1.3-py2.py3-none-any.whl (78kB)\n",
      "\u001b[K     |████████████████████████████████| 81kB 4.5MB/s eta 0:00:011\n",
      "\u001b[?25hRequirement already satisfied: cachetools<5.0,>=2.0.0 in /Users/santhoshputtaraju/anaconda3/lib/python3.7/site-packages (from google-auth>=1.16.0->google-api-python-client>=1.6.7->tf-models-official) (4.2.1)\n",
      "Requirement already satisfied: cffi>=1.0.0 in /Users/santhoshputtaraju/anaconda3/lib/python3.7/site-packages (from google-crc32c<2.0dev,>=1.0; python_version >= \"3.5\"->google-resumable-media<2.0dev,>=0.6.0->google-cloud-bigquery>=0.31.0->tf-models-official) (1.12.3)\n",
      "Requirement already satisfied: importlib-metadata; python_version < \"3.8\" in /Users/santhoshputtaraju/anaconda3/lib/python3.7/site-packages (from markdown>=2.6.8->tensorboard~=2.4->tensorflow>=2.4.0->tf-models-official) (0.23)\n",
      "Requirement already satisfied: requests-oauthlib>=0.7.0 in /Users/santhoshputtaraju/anaconda3/lib/python3.7/site-packages (from google-auth-oauthlib<0.5,>=0.4.1->tensorboard~=2.4->tensorflow>=2.4.0->tf-models-official) (1.3.0)\n",
      "Requirement already satisfied: more-itertools in /Users/santhoshputtaraju/anaconda3/lib/python3.7/site-packages (from zipp>=0.4; python_version < \"3.8\"->importlib-resources; python_version < \"3.9\"->tensorflow-datasets->tf-models-official) (7.2.0)\n",
      "Requirement already satisfied: pycparser in /Users/santhoshputtaraju/anaconda3/lib/python3.7/site-packages (from cffi>=1.0.0->google-crc32c<2.0dev,>=1.0; python_version >= \"3.5\"->google-resumable-media<2.0dev,>=0.6.0->google-cloud-bigquery>=0.31.0->tf-models-official) (2.19)\n",
      "Requirement already satisfied: oauthlib>=3.0.0 in /Users/santhoshputtaraju/anaconda3/lib/python3.7/site-packages (from requests-oauthlib>=0.7.0->google-auth-oauthlib<0.5,>=0.4.1->tensorboard~=2.4->tensorflow>=2.4.0->tf-models-official) (3.1.0)\n",
      "Building wheels for collected packages: seqeval, py-cpuinfo, pycocotools, kaggle, proto-plus, wrapt, promise, python-slugify\n",
      "  Building wheel for seqeval (setup.py) ... \u001b[?25ldone\n",
      "\u001b[?25h  Created wheel for seqeval: filename=seqeval-1.2.2-cp37-none-any.whl size=16171 sha256=66967ba854067f9548ba4ba96000cb0746405586c14cfe463012eb274f63f6ae\n",
      "  Stored in directory: /Users/santhoshputtaraju/Library/Caches/pip/wheels/52/df/1b/45d75646c37428f7e626214704a0e35bd3cfc32eda37e59e5f\n",
      "  Building wheel for py-cpuinfo (setup.py) ... \u001b[?25ldone\n",
      "\u001b[?25h  Created wheel for py-cpuinfo: filename=py_cpuinfo-7.0.0-cp37-none-any.whl size=20071 sha256=b39be3ea00d226949db9a0f7ef54b86b2dd98a3f34c95bbed9e2dbf8356b2fb6\n",
      "  Stored in directory: /Users/santhoshputtaraju/Library/Caches/pip/wheels/f1/93/7b/127daf0c3a5a49feb2fecd468d508067c733fba5192f726ad1\n",
      "  Building wheel for pycocotools (setup.py) ... \u001b[?25lerror\n",
      "\u001b[31m  ERROR: Command errored out with exit status 1:\n",
      "   command: /Users/santhoshputtaraju/anaconda3/bin/python -u -c 'import sys, setuptools, tokenize; sys.argv[0] = '\"'\"'/private/var/folders/b3/tkqs1bcn7dsgpmv7041d3sww0000gn/T/pip-install-s1584ced/pycocotools/setup.py'\"'\"'; __file__='\"'\"'/private/var/folders/b3/tkqs1bcn7dsgpmv7041d3sww0000gn/T/pip-install-s1584ced/pycocotools/setup.py'\"'\"';f=getattr(tokenize, '\"'\"'open'\"'\"', open)(__file__);code=f.read().replace('\"'\"'\\r\\n'\"'\"', '\"'\"'\\n'\"'\"');f.close();exec(compile(code, __file__, '\"'\"'exec'\"'\"'))' bdist_wheel -d /private/var/folders/b3/tkqs1bcn7dsgpmv7041d3sww0000gn/T/pip-wheel-seav1wzj --python-tag cp37\n",
      "       cwd: /private/var/folders/b3/tkqs1bcn7dsgpmv7041d3sww0000gn/T/pip-install-s1584ced/pycocotools/\n",
      "  Complete output (21 lines):\n",
      "  running bdist_wheel\n",
      "  running build\n",
      "  running build_py\n",
      "  creating build\n",
      "  creating build/lib.macosx-10.9-x86_64-3.7\n",
      "  creating build/lib.macosx-10.9-x86_64-3.7/pycocotools\n",
      "  copying pycocotools/coco.py -> build/lib.macosx-10.9-x86_64-3.7/pycocotools\n",
      "  copying pycocotools/mask.py -> build/lib.macosx-10.9-x86_64-3.7/pycocotools\n",
      "  copying pycocotools/__init__.py -> build/lib.macosx-10.9-x86_64-3.7/pycocotools\n",
      "  copying pycocotools/cocoeval.py -> build/lib.macosx-10.9-x86_64-3.7/pycocotools\n",
      "  running build_ext\n",
      "  cythoning pycocotools/_mask.pyx to pycocotools/_mask.c\n",
      "  /Users/santhoshputtaraju/anaconda3/lib/python3.7/site-packages/Cython/Compiler/Main.py:369: FutureWarning: Cython directive 'language_level' not set, using 2 for now (Py2). This will change in a later release! File: /private/var/folders/b3/tkqs1bcn7dsgpmv7041d3sww0000gn/T/pip-install-s1584ced/pycocotools/pycocotools/_mask.pyx\n",
      "    tree = Parsing.p_module(s, pxd, full_module_name)\n",
      "  building 'pycocotools._mask' extension\n",
      "  creating build/temp.macosx-10.9-x86_64-3.7\n",
      "  creating build/temp.macosx-10.9-x86_64-3.7/common\n",
      "  creating build/temp.macosx-10.9-x86_64-3.7/pycocotools\n",
      "  gcc -Wno-unused-result -Wsign-compare -Wunreachable-code -DNDEBUG -g -fwrapv -O3 -Wall -Wstrict-prototypes -I/Users/santhoshputtaraju/anaconda3/include -arch x86_64 -I/Users/santhoshputtaraju/anaconda3/include -arch x86_64 -I/Users/santhoshputtaraju/anaconda3/lib/python3.7/site-packages/numpy/core/include -I./common -I/Users/santhoshputtaraju/anaconda3/include/python3.7m -c ./common/maskApi.c -o build/temp.macosx-10.9-x86_64-3.7/./common/maskApi.o -Wno-cpp -Wno-unused-function -std=c99\n",
      "  xcrun: error: invalid active developer path (/Library/Developer/CommandLineTools), missing xcrun at: /Library/Developer/CommandLineTools/usr/bin/xcrun\n",
      "  error: command 'gcc' failed with exit status 1\n",
      "  ----------------------------------------\u001b[0m\n",
      "\u001b[31m  ERROR: Failed building wheel for pycocotools\u001b[0m\n",
      "\u001b[?25h  Running setup.py clean for pycocotools\n"
     ]
    },
    {
     "name": "stdout",
     "output_type": "stream",
     "text": [
      "  Building wheel for kaggle (setup.py) ... \u001b[?25ldone\n",
      "\u001b[?25h  Created wheel for kaggle: filename=kaggle-1.5.10-cp37-none-any.whl size=73269 sha256=4a195ef09a63cad821aeb5a2acc711a88caf8e19ba8deb533a5c631f5f551fea\n",
      "  Stored in directory: /Users/santhoshputtaraju/Library/Caches/pip/wheels/3a/d1/7e/6ce09b72b770149802c653a02783821629146983ee5a360f10\n",
      "  Building wheel for proto-plus (setup.py) ... \u001b[?25ldone\n",
      "\u001b[?25h  Created wheel for proto-plus: filename=proto_plus-1.13.0-cp37-none-any.whl size=41593 sha256=f43eb4bba12bb934996d3ae1c2a1c29e2f9d0b736c9dfa9bee0aebd462a22a59\n",
      "  Stored in directory: /Users/santhoshputtaraju/Library/Caches/pip/wheels/65/57/45/b5c1c1c29003f3670581d84356fa449e1133da93c15f1de364\n",
      "  Building wheel for wrapt (setup.py) ... \u001b[?25ldone\n",
      "\u001b[?25h  Created wheel for wrapt: filename=wrapt-1.12.1-cp37-none-any.whl size=19554 sha256=1126f7fbf31bb2aee67b0818e643acc920e523171160a40950554e77f9860272\n",
      "  Stored in directory: /Users/santhoshputtaraju/Library/Caches/pip/wheels/b1/c2/ed/d62208260edbd3fa7156545c00ef966f45f2063d0a84f8208a\n",
      "  Building wheel for promise (setup.py) ... \u001b[?25ldone\n",
      "\u001b[?25h  Created wheel for promise: filename=promise-2.3-cp37-none-any.whl size=21494 sha256=60c77738d989b43c237217c58e6c543992efc787d7d675ce156d290190df7049\n",
      "  Stored in directory: /Users/santhoshputtaraju/Library/Caches/pip/wheels/19/49/34/c3c1e78bcb954c49e5ec0d31784fe63d14d427f316b12fbde9\n",
      "  Building wheel for python-slugify (setup.py) ... \u001b[?25ldone\n",
      "\u001b[?25h  Created wheel for python-slugify: filename=python_slugify-4.0.1-py2.py3-none-any.whl size=6768 sha256=bec483730356a1fd3085b134531e73c710301f052b2855545088415bbf17e260\n",
      "  Stored in directory: /Users/santhoshputtaraju/Library/Caches/pip/wheels/67/b8/ba/041548f30a6fc058c9b3f79a5b7b6aea925a15dd1e5c4992a4\n",
      "Successfully built seqeval py-cpuinfo kaggle proto-plus wrapt promise python-slugify\n",
      "Failed to build pycocotools\n",
      "\u001b[31mERROR: astroid 2.3.1 requires typed-ast<1.5,>=1.4.0; implementation_name == \"cpython\" and python_version < \"3.8\", which is not installed.\u001b[0m\n",
      "\u001b[31mERROR: tensorflow 2.4.1 has requirement numpy~=1.19.2, but you'll have numpy 1.17.2 which is incompatible.\u001b[0m\n",
      "\u001b[31mERROR: tensorflow 2.4.1 has requirement six~=1.15.0, but you'll have six 1.12.0 which is incompatible.\u001b[0m\n",
      "\u001b[31mERROR: astroid 2.3.1 has requirement wrapt==1.11.*, but you'll have wrapt 1.12.1 which is incompatible.\u001b[0m\n",
      "\u001b[31mERROR: google-api-core 1.25.1 has requirement six>=1.13.0, but you'll have six 1.12.0 which is incompatible.\u001b[0m\n",
      "\u001b[31mERROR: tensorflow-metadata 0.27.0 has requirement absl-py<0.11,>=0.9, but you'll have absl-py 0.11.0 which is incompatible.\u001b[0m\n",
      "\u001b[31mERROR: google-api-python-client 1.12.8 has requirement six<2dev,>=1.13.0, but you'll have six 1.12.0 which is incompatible.\u001b[0m\n",
      "Installing collected packages: seqeval, httplib2, oauth2client, gin-config, py-cpuinfo, dataclasses, pycocotools, google-crc32c, google-resumable-media, googleapis-common-protos, grpcio, google-api-core, proto-plus, google-cloud-core, google-cloud-bigquery, typeguard, tensorflow-addons, wheel, tensorboard-plugin-wit, tensorboard, h5py, wrapt, typing-extensions, gast, astunparse, tensorflow-estimator, flatbuffers, tensorflow, opencv-python-headless, importlib-resources, tensorflow-metadata, dill, promise, tensorflow-datasets, tensorflow-hub, text-unidecode, python-slugify, kaggle, dm-tree, tensorflow-model-optimization, sentencepiece, google-auth-httplib2, uritemplate, google-api-python-client, tf-models-official\n",
      "  Running setup.py install for pycocotools ... \u001b[?25lerror\n",
      "\u001b[31m    ERROR: Command errored out with exit status 1:\n",
      "     command: /Users/santhoshputtaraju/anaconda3/bin/python -u -c 'import sys, setuptools, tokenize; sys.argv[0] = '\"'\"'/private/var/folders/b3/tkqs1bcn7dsgpmv7041d3sww0000gn/T/pip-install-s1584ced/pycocotools/setup.py'\"'\"'; __file__='\"'\"'/private/var/folders/b3/tkqs1bcn7dsgpmv7041d3sww0000gn/T/pip-install-s1584ced/pycocotools/setup.py'\"'\"';f=getattr(tokenize, '\"'\"'open'\"'\"', open)(__file__);code=f.read().replace('\"'\"'\\r\\n'\"'\"', '\"'\"'\\n'\"'\"');f.close();exec(compile(code, __file__, '\"'\"'exec'\"'\"'))' install --record /private/var/folders/b3/tkqs1bcn7dsgpmv7041d3sww0000gn/T/pip-record-ljrxfqdr/install-record.txt --single-version-externally-managed --compile\n",
      "         cwd: /private/var/folders/b3/tkqs1bcn7dsgpmv7041d3sww0000gn/T/pip-install-s1584ced/pycocotools/\n",
      "    Complete output (19 lines):\n",
      "    running install\n",
      "    running build\n",
      "    running build_py\n",
      "    creating build\n",
      "    creating build/lib.macosx-10.9-x86_64-3.7\n",
      "    creating build/lib.macosx-10.9-x86_64-3.7/pycocotools\n",
      "    copying pycocotools/coco.py -> build/lib.macosx-10.9-x86_64-3.7/pycocotools\n",
      "    copying pycocotools/mask.py -> build/lib.macosx-10.9-x86_64-3.7/pycocotools\n",
      "    copying pycocotools/__init__.py -> build/lib.macosx-10.9-x86_64-3.7/pycocotools\n",
      "    copying pycocotools/cocoeval.py -> build/lib.macosx-10.9-x86_64-3.7/pycocotools\n",
      "    running build_ext\n",
      "    skipping 'pycocotools/_mask.c' Cython extension (up-to-date)\n",
      "    building 'pycocotools._mask' extension\n",
      "    creating build/temp.macosx-10.9-x86_64-3.7\n",
      "    creating build/temp.macosx-10.9-x86_64-3.7/common\n",
      "    creating build/temp.macosx-10.9-x86_64-3.7/pycocotools\n",
      "    gcc -Wno-unused-result -Wsign-compare -Wunreachable-code -DNDEBUG -g -fwrapv -O3 -Wall -Wstrict-prototypes -I/Users/santhoshputtaraju/anaconda3/include -arch x86_64 -I/Users/santhoshputtaraju/anaconda3/include -arch x86_64 -I/Users/santhoshputtaraju/anaconda3/lib/python3.7/site-packages/numpy/core/include -I./common -I/Users/santhoshputtaraju/anaconda3/include/python3.7m -c ./common/maskApi.c -o build/temp.macosx-10.9-x86_64-3.7/./common/maskApi.o -Wno-cpp -Wno-unused-function -std=c99\n",
      "    xcrun: error: invalid active developer path (/Library/Developer/CommandLineTools), missing xcrun at: /Library/Developer/CommandLineTools/usr/bin/xcrun\n",
      "    error: command 'gcc' failed with exit status 1\n",
      "    ----------------------------------------\u001b[0m\n",
      "\u001b[31mERROR: Command errored out with exit status 1: /Users/santhoshputtaraju/anaconda3/bin/python -u -c 'import sys, setuptools, tokenize; sys.argv[0] = '\"'\"'/private/var/folders/b3/tkqs1bcn7dsgpmv7041d3sww0000gn/T/pip-install-s1584ced/pycocotools/setup.py'\"'\"'; __file__='\"'\"'/private/var/folders/b3/tkqs1bcn7dsgpmv7041d3sww0000gn/T/pip-install-s1584ced/pycocotools/setup.py'\"'\"';f=getattr(tokenize, '\"'\"'open'\"'\"', open)(__file__);code=f.read().replace('\"'\"'\\r\\n'\"'\"', '\"'\"'\\n'\"'\"');f.close();exec(compile(code, __file__, '\"'\"'exec'\"'\"'))' install --record /private/var/folders/b3/tkqs1bcn7dsgpmv7041d3sww0000gn/T/pip-record-ljrxfqdr/install-record.txt --single-version-externally-managed --compile Check the logs for full command output.\u001b[0m\n",
      "\u001b[?25h"
     ]
    }
   ],
   "source": [
    "!pip install tf-models-official"
   ]
  },
  {
   "cell_type": "markdown",
   "metadata": {
    "id": "LaAADkootgos"
   },
   "source": [
    "### model training"
   ]
  },
  {
   "cell_type": "markdown",
   "metadata": {
    "id": "DM0OAr8jxvzc"
   },
   "source": [
    "before executing following cell modify pipeline.config and set the pretrained model[1] path for transfer learning\n",
    "\n",
    "download suitable model[1] from below link and include it inside the folder workspace>>training_demo>>pre-trained-models\n",
    "\n",
    "https://github.com/tensorflow/models/blob/master/research/object_detection/g3doc/tf2_detection_zoo.md"
   ]
  },
  {
   "cell_type": "code",
   "execution_count": 29,
   "metadata": {},
   "outputs": [
    {
     "name": "stdout",
     "output_type": "stream",
     "text": [
      "README.md           \u001b[34mexported-models\u001b[m\u001b[m     \u001b[34mimages\u001b[m\u001b[m              \u001b[34mmodels\u001b[m\u001b[m\r\n",
      "\u001b[34mannotations\u001b[m\u001b[m         exporter_main_v2.py model_main_tf2.py   \u001b[34mpre-trained-models\u001b[m\u001b[m\r\n"
     ]
    }
   ],
   "source": [
    "!ls"
   ]
  },
  {
   "cell_type": "code",
   "execution_count": 56,
   "metadata": {
    "colab": {
     "base_uri": "https://localhost:8080/"
    },
    "executionInfo": {
     "elapsed": 9355,
     "status": "ok",
     "timestamp": 1608887290032,
     "user": {
      "displayName": "Rochana Rumalshan",
      "photoUrl": "https://lh3.googleusercontent.com/a-/AOh14GgwjR7UqJKgUftQ5ioZZHm-x1FtjT4Oz4Xygq9T=s64",
      "userId": "05290604734228202310"
     },
     "user_tz": -330
    },
    "id": "a1GUYUjCWenK",
    "outputId": "e6cd42f7-81f8-473b-a33d-c9f59cbc78d3"
   },
   "outputs": [
    {
     "name": "stdout",
     "output_type": "stream",
     "text": [
      "/Users/santhoshputtaraju/Desktop/OCR/bankchecks/workspace/training_demo\n",
      "/Users/santhoshputtaraju/Desktop/OCR/bankchecks/workspace/training_demo\n",
      "README.md           \u001b[34mexported-models\u001b[m\u001b[m     model_main_tf2.py\n",
      "\u001b[34mannotations\u001b[m\u001b[m         exporter_main_v2.py \u001b[34mmodels\u001b[m\u001b[m\n",
      "\u001b[34mcoco\u001b[m\u001b[m                \u001b[34mimages\u001b[m\u001b[m              \u001b[34mpre-trained-models\u001b[m\u001b[m\n"
     ]
    }
   ],
   "source": [
    "%cd /Users/santhoshputtaraju/Desktop/OCR/bankchecks/workspace/training_demo\n",
    "!pwd\n",
    "!ls"
   ]
  },
  {
   "cell_type": "code",
   "execution_count": 64,
   "metadata": {},
   "outputs": [
    {
     "name": "stdout",
     "output_type": "stream",
     "text": [
      "/Users/santhoshputtaraju/Desktop/OCR/bankchecks/models/research\n",
      "/Users/santhoshputtaraju/Desktop/OCR/bankchecks/models/research\n",
      "\u001b[34mPythonAPI\u001b[m\u001b[m             \u001b[34mcvt_text\u001b[m\u001b[m              \u001b[34mnst_blogpost\u001b[m\u001b[m\n",
      "README.md             \u001b[34mdeep_speech\u001b[m\u001b[m           \u001b[34mobject_detection\u001b[m\u001b[m\n",
      "\u001b[34ma3c_blogpost\u001b[m\u001b[m          \u001b[34mdeeplab\u001b[m\u001b[m               \u001b[34mpcl_rl\u001b[m\u001b[m\n",
      "\u001b[34madversarial_text\u001b[m\u001b[m      \u001b[34mdelf\u001b[m\u001b[m                  \u001b[34mrebar\u001b[m\u001b[m\n",
      "\u001b[34mattention_ocr\u001b[m\u001b[m         \u001b[34mefficient-hrl\u001b[m\u001b[m         setup.py\n",
      "\u001b[34maudioset\u001b[m\u001b[m              \u001b[34mlfads\u001b[m\u001b[m                 \u001b[34mslim\u001b[m\u001b[m\n",
      "\u001b[34mautoaugment\u001b[m\u001b[m           \u001b[34mlstm_object_detection\u001b[m\u001b[m \u001b[34mvid2depth\u001b[m\u001b[m\n",
      "\u001b[34mcognitive_planning\u001b[m\u001b[m    \u001b[34mmarco\u001b[m\u001b[m\n"
     ]
    }
   ],
   "source": [
    "%cd /Users/santhoshputtaraju/Desktop/OCR/bankchecks/models/research\n",
    "!pwd\n",
    "!ls"
   ]
  },
  {
   "cell_type": "code",
   "execution_count": 66,
   "metadata": {},
   "outputs": [
    {
     "name": "stdout",
     "output_type": "stream",
     "text": [
      "Traceback (most recent call last):\r\n",
      "  File \"PythonAPI/setup.py\", line 23, in <module>\r\n",
      "    cythonize(ext_modules)\r\n",
      "  File \"/Users/santhoshputtaraju/anaconda3/lib/python3.7/site-packages/Cython/Build/Dependencies.py\", line 972, in cythonize\r\n",
      "    aliases=aliases)\r\n",
      "  File \"/Users/santhoshputtaraju/anaconda3/lib/python3.7/site-packages/Cython/Build/Dependencies.py\", line 815, in create_extension_list\r\n",
      "    for file in nonempty(sorted(extended_iglob(filepattern)), \"'%s' doesn't match any files\" % filepattern):\r\n",
      "  File \"/Users/santhoshputtaraju/anaconda3/lib/python3.7/site-packages/Cython/Build/Dependencies.py\", line 114, in nonempty\r\n",
      "    raise ValueError(error_msg)\r\n",
      "ValueError: 'pycocotools/_mask.pyx' doesn't match any files\r\n"
     ]
    }
   ],
   "source": [
    "!python PythonAPI/setup.py build_ext --inplace"
   ]
  },
  {
   "cell_type": "code",
   "execution_count": 57,
   "metadata": {
    "id": "6X9o_zEghGd_"
   },
   "outputs": [
    {
     "name": "stdout",
     "output_type": "stream",
     "text": [
      "Traceback (most recent call last):\r\n",
      "  File \"model_main_tf2.py\", line 37, in <module>\r\n",
      "    from object_detection import model_lib_v2\r\n",
      "  File \"/Users/santhoshputtaraju/Desktop/OCR/bankchecks/models/research/object_detection/model_lib_v2.py\", line 32, in <module>\r\n",
      "    from object_detection import eval_util\r\n",
      "  File \"/Users/santhoshputtaraju/Desktop/OCR/bankchecks/models/research/object_detection/eval_util.py\", line 39, in <module>\r\n",
      "    from object_detection.metrics import coco_evaluation\r\n",
      "  File \"/Users/santhoshputtaraju/Desktop/OCR/bankchecks/models/research/object_detection/metrics/coco_evaluation.py\", line 25, in <module>\r\n",
      "    from object_detection.metrics import coco_tools\r\n",
      "  File \"/Users/santhoshputtaraju/Desktop/OCR/bankchecks/models/research/object_detection/metrics/coco_tools.py\", line 51, in <module>\r\n",
      "    from pycocotools import coco\r\n",
      "ModuleNotFoundError: No module named 'pycocotools'\r\n"
     ]
    }
   ],
   "source": [
    "!python model_main_tf2.py --model_dir=models/my_ssd_resnet50_v1_fpn --pipeline_config_path=models/my_ssd_resnet50_v1_fpn/pipeline.config"
   ]
  },
  {
   "cell_type": "code",
   "execution_count": 62,
   "metadata": {},
   "outputs": [
    {
     "name": "stdout",
     "output_type": "stream",
     "text": [
      "Collecting pycocotools\n",
      "  Using cached https://files.pythonhosted.org/packages/de/df/056875d697c45182ed6d2ae21f62015896fdb841906fe48e7268e791c467/pycocotools-2.0.2.tar.gz\n",
      "Requirement already satisfied: setuptools>=18.0 in /Users/santhoshputtaraju/anaconda3/lib/python3.7/site-packages (from pycocotools) (41.4.0)\n",
      "Requirement already satisfied: cython>=0.27.3 in /Users/santhoshputtaraju/anaconda3/lib/python3.7/site-packages (from pycocotools) (0.29.21)\n",
      "Requirement already satisfied: matplotlib>=2.1.0 in /Users/santhoshputtaraju/anaconda3/lib/python3.7/site-packages (from pycocotools) (3.1.1)\n",
      "Requirement already satisfied: cycler>=0.10 in /Users/santhoshputtaraju/anaconda3/lib/python3.7/site-packages (from matplotlib>=2.1.0->pycocotools) (0.10.0)\n",
      "Requirement already satisfied: kiwisolver>=1.0.1 in /Users/santhoshputtaraju/anaconda3/lib/python3.7/site-packages (from matplotlib>=2.1.0->pycocotools) (1.1.0)\n",
      "Requirement already satisfied: pyparsing!=2.0.4,!=2.1.2,!=2.1.6,>=2.0.1 in /Users/santhoshputtaraju/anaconda3/lib/python3.7/site-packages (from matplotlib>=2.1.0->pycocotools) (2.4.2)\n",
      "Requirement already satisfied: python-dateutil>=2.1 in /Users/santhoshputtaraju/anaconda3/lib/python3.7/site-packages (from matplotlib>=2.1.0->pycocotools) (2.8.0)\n",
      "Requirement already satisfied: numpy>=1.11 in /Users/santhoshputtaraju/anaconda3/lib/python3.7/site-packages (from matplotlib>=2.1.0->pycocotools) (1.17.2)\n",
      "Requirement already satisfied: six in /Users/santhoshputtaraju/anaconda3/lib/python3.7/site-packages (from cycler>=0.10->matplotlib>=2.1.0->pycocotools) (1.12.0)\n",
      "Building wheels for collected packages: pycocotools\n",
      "  Building wheel for pycocotools (setup.py) ... \u001b[?25lerror\n",
      "\u001b[31m  ERROR: Command errored out with exit status 1:\n",
      "   command: /Users/santhoshputtaraju/anaconda3/bin/python -u -c 'import sys, setuptools, tokenize; sys.argv[0] = '\"'\"'/private/var/folders/b3/tkqs1bcn7dsgpmv7041d3sww0000gn/T/pip-install-zshx87sc/pycocotools/setup.py'\"'\"'; __file__='\"'\"'/private/var/folders/b3/tkqs1bcn7dsgpmv7041d3sww0000gn/T/pip-install-zshx87sc/pycocotools/setup.py'\"'\"';f=getattr(tokenize, '\"'\"'open'\"'\"', open)(__file__);code=f.read().replace('\"'\"'\\r\\n'\"'\"', '\"'\"'\\n'\"'\"');f.close();exec(compile(code, __file__, '\"'\"'exec'\"'\"'))' bdist_wheel -d /private/var/folders/b3/tkqs1bcn7dsgpmv7041d3sww0000gn/T/pip-wheel-0u96iwxb --python-tag cp37\n",
      "       cwd: /private/var/folders/b3/tkqs1bcn7dsgpmv7041d3sww0000gn/T/pip-install-zshx87sc/pycocotools/\n",
      "  Complete output (21 lines):\n",
      "  running bdist_wheel\n",
      "  running build\n",
      "  running build_py\n",
      "  creating build\n",
      "  creating build/lib.macosx-10.9-x86_64-3.7\n",
      "  creating build/lib.macosx-10.9-x86_64-3.7/pycocotools\n",
      "  copying pycocotools/coco.py -> build/lib.macosx-10.9-x86_64-3.7/pycocotools\n",
      "  copying pycocotools/mask.py -> build/lib.macosx-10.9-x86_64-3.7/pycocotools\n",
      "  copying pycocotools/__init__.py -> build/lib.macosx-10.9-x86_64-3.7/pycocotools\n",
      "  copying pycocotools/cocoeval.py -> build/lib.macosx-10.9-x86_64-3.7/pycocotools\n",
      "  running build_ext\n",
      "  cythoning pycocotools/_mask.pyx to pycocotools/_mask.c\n",
      "  /Users/santhoshputtaraju/anaconda3/lib/python3.7/site-packages/Cython/Compiler/Main.py:369: FutureWarning: Cython directive 'language_level' not set, using 2 for now (Py2). This will change in a later release! File: /private/var/folders/b3/tkqs1bcn7dsgpmv7041d3sww0000gn/T/pip-install-zshx87sc/pycocotools/pycocotools/_mask.pyx\n",
      "    tree = Parsing.p_module(s, pxd, full_module_name)\n",
      "  building 'pycocotools._mask' extension\n",
      "  creating build/temp.macosx-10.9-x86_64-3.7\n",
      "  creating build/temp.macosx-10.9-x86_64-3.7/common\n",
      "  creating build/temp.macosx-10.9-x86_64-3.7/pycocotools\n",
      "  gcc -Wno-unused-result -Wsign-compare -Wunreachable-code -DNDEBUG -g -fwrapv -O3 -Wall -Wstrict-prototypes -I/Users/santhoshputtaraju/anaconda3/include -arch x86_64 -I/Users/santhoshputtaraju/anaconda3/include -arch x86_64 -I/Users/santhoshputtaraju/anaconda3/lib/python3.7/site-packages/numpy/core/include -I./common -I/Users/santhoshputtaraju/anaconda3/include/python3.7m -c ./common/maskApi.c -o build/temp.macosx-10.9-x86_64-3.7/./common/maskApi.o -Wno-cpp -Wno-unused-function -std=c99\n",
      "  xcrun: error: invalid active developer path (/Library/Developer/CommandLineTools), missing xcrun at: /Library/Developer/CommandLineTools/usr/bin/xcrun\n",
      "  error: command 'gcc' failed with exit status 1\n",
      "  ----------------------------------------\u001b[0m\n",
      "\u001b[31m  ERROR: Failed building wheel for pycocotools\u001b[0m\n",
      "\u001b[?25h  Running setup.py clean for pycocotools\n",
      "Failed to build pycocotools\n",
      "Installing collected packages: pycocotools\n",
      "  Running setup.py install for pycocotools ... \u001b[?25lerror\n",
      "\u001b[31m    ERROR: Command errored out with exit status 1:\n",
      "     command: /Users/santhoshputtaraju/anaconda3/bin/python -u -c 'import sys, setuptools, tokenize; sys.argv[0] = '\"'\"'/private/var/folders/b3/tkqs1bcn7dsgpmv7041d3sww0000gn/T/pip-install-zshx87sc/pycocotools/setup.py'\"'\"'; __file__='\"'\"'/private/var/folders/b3/tkqs1bcn7dsgpmv7041d3sww0000gn/T/pip-install-zshx87sc/pycocotools/setup.py'\"'\"';f=getattr(tokenize, '\"'\"'open'\"'\"', open)(__file__);code=f.read().replace('\"'\"'\\r\\n'\"'\"', '\"'\"'\\n'\"'\"');f.close();exec(compile(code, __file__, '\"'\"'exec'\"'\"'))' install --record /private/var/folders/b3/tkqs1bcn7dsgpmv7041d3sww0000gn/T/pip-record-cd3i1rgj/install-record.txt --single-version-externally-managed --compile\n",
      "         cwd: /private/var/folders/b3/tkqs1bcn7dsgpmv7041d3sww0000gn/T/pip-install-zshx87sc/pycocotools/\n",
      "    Complete output (19 lines):\n",
      "    running install\n",
      "    running build\n",
      "    running build_py\n",
      "    creating build\n",
      "    creating build/lib.macosx-10.9-x86_64-3.7\n",
      "    creating build/lib.macosx-10.9-x86_64-3.7/pycocotools\n",
      "    copying pycocotools/coco.py -> build/lib.macosx-10.9-x86_64-3.7/pycocotools\n",
      "    copying pycocotools/mask.py -> build/lib.macosx-10.9-x86_64-3.7/pycocotools\n",
      "    copying pycocotools/__init__.py -> build/lib.macosx-10.9-x86_64-3.7/pycocotools\n",
      "    copying pycocotools/cocoeval.py -> build/lib.macosx-10.9-x86_64-3.7/pycocotools\n",
      "    running build_ext\n",
      "    skipping 'pycocotools/_mask.c' Cython extension (up-to-date)\n",
      "    building 'pycocotools._mask' extension\n",
      "    creating build/temp.macosx-10.9-x86_64-3.7\n",
      "    creating build/temp.macosx-10.9-x86_64-3.7/common\n",
      "    creating build/temp.macosx-10.9-x86_64-3.7/pycocotools\n",
      "    gcc -Wno-unused-result -Wsign-compare -Wunreachable-code -DNDEBUG -g -fwrapv -O3 -Wall -Wstrict-prototypes -I/Users/santhoshputtaraju/anaconda3/include -arch x86_64 -I/Users/santhoshputtaraju/anaconda3/include -arch x86_64 -I/Users/santhoshputtaraju/anaconda3/lib/python3.7/site-packages/numpy/core/include -I./common -I/Users/santhoshputtaraju/anaconda3/include/python3.7m -c ./common/maskApi.c -o build/temp.macosx-10.9-x86_64-3.7/./common/maskApi.o -Wno-cpp -Wno-unused-function -std=c99\n",
      "    xcrun: error: invalid active developer path (/Library/Developer/CommandLineTools), missing xcrun at: /Library/Developer/CommandLineTools/usr/bin/xcrun\n",
      "    error: command 'gcc' failed with exit status 1\n",
      "    ----------------------------------------\u001b[0m\n",
      "\u001b[31mERROR: Command errored out with exit status 1: /Users/santhoshputtaraju/anaconda3/bin/python -u -c 'import sys, setuptools, tokenize; sys.argv[0] = '\"'\"'/private/var/folders/b3/tkqs1bcn7dsgpmv7041d3sww0000gn/T/pip-install-zshx87sc/pycocotools/setup.py'\"'\"'; __file__='\"'\"'/private/var/folders/b3/tkqs1bcn7dsgpmv7041d3sww0000gn/T/pip-install-zshx87sc/pycocotools/setup.py'\"'\"';f=getattr(tokenize, '\"'\"'open'\"'\"', open)(__file__);code=f.read().replace('\"'\"'\\r\\n'\"'\"', '\"'\"'\\n'\"'\"');f.close();exec(compile(code, __file__, '\"'\"'exec'\"'\"'))' install --record /private/var/folders/b3/tkqs1bcn7dsgpmv7041d3sww0000gn/T/pip-record-cd3i1rgj/install-record.txt --single-version-externally-managed --compile Check the logs for full command output.\u001b[0m\n",
      "\u001b[?25h"
     ]
    }
   ],
   "source": [
    "!pip install pycocotools"
   ]
  },
  {
   "cell_type": "code",
   "execution_count": 48,
   "metadata": {},
   "outputs": [
    {
     "name": "stdout",
     "output_type": "stream",
     "text": [
      "/Users/santhoshputtaraju/Desktop/OCR/bankchecks/workspace/training_demo/coco/PythonAPI\n",
      "xcrun: error: invalid active developer path (/Library/Developer/CommandLineTools), missing xcrun at: /Library/Developer/CommandLineTools/usr/bin/xcrun\r\n"
     ]
    }
   ],
   "source": [
    "%cd coco/PythonAPI/\n",
    "!make"
   ]
  },
  {
   "cell_type": "code",
   "execution_count": 58,
   "metadata": {},
   "outputs": [
    {
     "name": "stdout",
     "output_type": "stream",
     "text": [
      "Collecting git+https://github.com/philferriere/cocoapi.git#subdirectory=PythonAPI\n",
      "  Cloning https://github.com/philferriere/cocoapi.git to /private/var/folders/b3/tkqs1bcn7dsgpmv7041d3sww0000gn/T/pip-req-build-339r43s6\n",
      "  Running command git clone -q https://github.com/philferriere/cocoapi.git /private/var/folders/b3/tkqs1bcn7dsgpmv7041d3sww0000gn/T/pip-req-build-339r43s6\n",
      "Building wheels for collected packages: pycocotools\n",
      "  Building wheel for pycocotools (setup.py) ... \u001b[?25lerror\n",
      "\u001b[31m  ERROR: Command errored out with exit status 1:\n",
      "   command: /Users/santhoshputtaraju/anaconda3/bin/python -u -c 'import sys, setuptools, tokenize; sys.argv[0] = '\"'\"'/private/var/folders/b3/tkqs1bcn7dsgpmv7041d3sww0000gn/T/pip-req-build-339r43s6/PythonAPI/setup.py'\"'\"'; __file__='\"'\"'/private/var/folders/b3/tkqs1bcn7dsgpmv7041d3sww0000gn/T/pip-req-build-339r43s6/PythonAPI/setup.py'\"'\"';f=getattr(tokenize, '\"'\"'open'\"'\"', open)(__file__);code=f.read().replace('\"'\"'\\r\\n'\"'\"', '\"'\"'\\n'\"'\"');f.close();exec(compile(code, __file__, '\"'\"'exec'\"'\"'))' bdist_wheel -d /private/var/folders/b3/tkqs1bcn7dsgpmv7041d3sww0000gn/T/pip-wheel-9s5mzv7c --python-tag cp37\n",
      "       cwd: /private/var/folders/b3/tkqs1bcn7dsgpmv7041d3sww0000gn/T/pip-req-build-339r43s6/PythonAPI\n",
      "  Complete output (18 lines):\n",
      "  running bdist_wheel\n",
      "  running build\n",
      "  running build_py\n",
      "  creating build\n",
      "  creating build/lib.macosx-10.9-x86_64-3.7\n",
      "  creating build/lib.macosx-10.9-x86_64-3.7/pycocotools\n",
      "  copying pycocotools/coco.py -> build/lib.macosx-10.9-x86_64-3.7/pycocotools\n",
      "  copying pycocotools/mask.py -> build/lib.macosx-10.9-x86_64-3.7/pycocotools\n",
      "  copying pycocotools/__init__.py -> build/lib.macosx-10.9-x86_64-3.7/pycocotools\n",
      "  copying pycocotools/cocoeval.py -> build/lib.macosx-10.9-x86_64-3.7/pycocotools\n",
      "  running build_ext\n",
      "  building 'pycocotools._mask' extension\n",
      "  creating build/temp.macosx-10.9-x86_64-3.7\n",
      "  creating build/temp.macosx-10.9-x86_64-3.7/pycocotools\n",
      "  creating build/common\n",
      "  gcc -Wno-unused-result -Wsign-compare -Wunreachable-code -DNDEBUG -g -fwrapv -O3 -Wall -Wstrict-prototypes -I/Users/santhoshputtaraju/anaconda3/include -arch x86_64 -I/Users/santhoshputtaraju/anaconda3/include -arch x86_64 -I/Users/santhoshputtaraju/anaconda3/lib/python3.7/site-packages/numpy/core/include -I../common -I/Users/santhoshputtaraju/anaconda3/include/python3.7m -c pycocotools/_mask.c -o build/temp.macosx-10.9-x86_64-3.7/pycocotools/_mask.o\n",
      "  xcrun: error: invalid active developer path (/Library/Developer/CommandLineTools), missing xcrun at: /Library/Developer/CommandLineTools/usr/bin/xcrun\n",
      "  error: command 'gcc' failed with exit status 1\n",
      "  ----------------------------------------\u001b[0m\n",
      "\u001b[31m  ERROR: Failed building wheel for pycocotools\u001b[0m\n",
      "\u001b[?25h  Running setup.py clean for pycocotools\n",
      "\u001b[31m  ERROR: Command errored out with exit status 1:\n",
      "   command: /Users/santhoshputtaraju/anaconda3/bin/python -u -c 'import sys, setuptools, tokenize; sys.argv[0] = '\"'\"'/private/var/folders/b3/tkqs1bcn7dsgpmv7041d3sww0000gn/T/pip-req-build-339r43s6/PythonAPI/setup.py'\"'\"'; __file__='\"'\"'/private/var/folders/b3/tkqs1bcn7dsgpmv7041d3sww0000gn/T/pip-req-build-339r43s6/PythonAPI/setup.py'\"'\"';f=getattr(tokenize, '\"'\"'open'\"'\"', open)(__file__);code=f.read().replace('\"'\"'\\r\\n'\"'\"', '\"'\"'\\n'\"'\"');f.close();exec(compile(code, __file__, '\"'\"'exec'\"'\"'))' clean --all\n",
      "       cwd: /private/var/folders/b3/tkqs1bcn7dsgpmv7041d3sww0000gn/T/pip-req-build-339r43s6\n",
      "  Complete output (11 lines):\n",
      "  Traceback (most recent call last):\n",
      "    File \"<string>\", line 1, in <module>\n",
      "    File \"/private/var/folders/b3/tkqs1bcn7dsgpmv7041d3sww0000gn/T/pip-req-build-339r43s6/PythonAPI/setup.py\", line 25, in <module>\n",
      "      cythonize(ext_modules)\n",
      "    File \"/Users/santhoshputtaraju/anaconda3/lib/python3.7/site-packages/Cython/Build/Dependencies.py\", line 972, in cythonize\n",
      "      aliases=aliases)\n",
      "    File \"/Users/santhoshputtaraju/anaconda3/lib/python3.7/site-packages/Cython/Build/Dependencies.py\", line 815, in create_extension_list\n",
      "      for file in nonempty(sorted(extended_iglob(filepattern)), \"'%s' doesn't match any files\" % filepattern):\n",
      "    File \"/Users/santhoshputtaraju/anaconda3/lib/python3.7/site-packages/Cython/Build/Dependencies.py\", line 114, in nonempty\n",
      "      raise ValueError(error_msg)\n",
      "  ValueError: 'pycocotools/_mask.pyx' doesn't match any files\n",
      "  ----------------------------------------\u001b[0m\n",
      "\u001b[31m  ERROR: Failed cleaning build dir for pycocotools\u001b[0m\n",
      "Failed to build pycocotools\n",
      "Installing collected packages: pycocotools\n",
      "  Running setup.py install for pycocotools ... \u001b[?25lerror\n",
      "\u001b[31m    ERROR: Command errored out with exit status 1:\n",
      "     command: /Users/santhoshputtaraju/anaconda3/bin/python -u -c 'import sys, setuptools, tokenize; sys.argv[0] = '\"'\"'/private/var/folders/b3/tkqs1bcn7dsgpmv7041d3sww0000gn/T/pip-req-build-339r43s6/PythonAPI/setup.py'\"'\"'; __file__='\"'\"'/private/var/folders/b3/tkqs1bcn7dsgpmv7041d3sww0000gn/T/pip-req-build-339r43s6/PythonAPI/setup.py'\"'\"';f=getattr(tokenize, '\"'\"'open'\"'\"', open)(__file__);code=f.read().replace('\"'\"'\\r\\n'\"'\"', '\"'\"'\\n'\"'\"');f.close();exec(compile(code, __file__, '\"'\"'exec'\"'\"'))' install --record /private/var/folders/b3/tkqs1bcn7dsgpmv7041d3sww0000gn/T/pip-record-46hvlfyy/install-record.txt --single-version-externally-managed --compile\n",
      "         cwd: /private/var/folders/b3/tkqs1bcn7dsgpmv7041d3sww0000gn/T/pip-req-build-339r43s6/PythonAPI\n",
      "    Complete output (8 lines):\n",
      "    running install\n",
      "    running build\n",
      "    running build_py\n",
      "    running build_ext\n",
      "    building 'pycocotools._mask' extension\n",
      "    gcc -Wno-unused-result -Wsign-compare -Wunreachable-code -DNDEBUG -g -fwrapv -O3 -Wall -Wstrict-prototypes -I/Users/santhoshputtaraju/anaconda3/include -arch x86_64 -I/Users/santhoshputtaraju/anaconda3/include -arch x86_64 -I/Users/santhoshputtaraju/anaconda3/lib/python3.7/site-packages/numpy/core/include -I../common -I/Users/santhoshputtaraju/anaconda3/include/python3.7m -c pycocotools/_mask.c -o build/temp.macosx-10.9-x86_64-3.7/pycocotools/_mask.o\n",
      "    xcrun: error: invalid active developer path (/Library/Developer/CommandLineTools), missing xcrun at: /Library/Developer/CommandLineTools/usr/bin/xcrun\n",
      "    error: command 'gcc' failed with exit status 1\n",
      "    ----------------------------------------\u001b[0m\n",
      "\u001b[31mERROR: Command errored out with exit status 1: /Users/santhoshputtaraju/anaconda3/bin/python -u -c 'import sys, setuptools, tokenize; sys.argv[0] = '\"'\"'/private/var/folders/b3/tkqs1bcn7dsgpmv7041d3sww0000gn/T/pip-req-build-339r43s6/PythonAPI/setup.py'\"'\"'; __file__='\"'\"'/private/var/folders/b3/tkqs1bcn7dsgpmv7041d3sww0000gn/T/pip-req-build-339r43s6/PythonAPI/setup.py'\"'\"';f=getattr(tokenize, '\"'\"'open'\"'\"', open)(__file__);code=f.read().replace('\"'\"'\\r\\n'\"'\"', '\"'\"'\\n'\"'\"');f.close();exec(compile(code, __file__, '\"'\"'exec'\"'\"'))' install --record /private/var/folders/b3/tkqs1bcn7dsgpmv7041d3sww0000gn/T/pip-record-46hvlfyy/install-record.txt --single-version-externally-managed --compile Check the logs for full command output.\u001b[0m\n",
      "\u001b[?25h"
     ]
    }
   ],
   "source": [
    "!pip install git+https://github.com/philferriere/cocoapi.git#subdirectory=PythonAPI"
   ]
  },
  {
   "cell_type": "code",
   "execution_count": 40,
   "metadata": {},
   "outputs": [
    {
     "name": "stdout",
     "output_type": "stream",
     "text": [
      "Traceback (most recent call last):\r\n",
      "  File \"coco/PythonAPI/setup.py\", line 23, in <module>\r\n",
      "    cythonize(ext_modules)\r\n",
      "  File \"/Users/santhoshputtaraju/anaconda3/lib/python3.7/site-packages/Cython/Build/Dependencies.py\", line 966, in cythonize\r\n",
      "    aliases=aliases)\r\n",
      "  File \"/Users/santhoshputtaraju/anaconda3/lib/python3.7/site-packages/Cython/Build/Dependencies.py\", line 810, in create_extension_list\r\n",
      "    for file in nonempty(sorted(extended_iglob(filepattern)), \"'%s' doesn't match any files\" % filepattern):\r\n",
      "  File \"/Users/santhoshputtaraju/anaconda3/lib/python3.7/site-packages/Cython/Build/Dependencies.py\", line 109, in nonempty\r\n",
      "    raise ValueError(error_msg)\r\n",
      "ValueError: 'pycocotools/_mask.pyx' doesn't match any files\r\n"
     ]
    }
   ],
   "source": [
    "!python coco/PythonAPI/setup.py build_ext install"
   ]
  },
  {
   "cell_type": "code",
   "execution_count": 47,
   "metadata": {},
   "outputs": [
    {
     "name": "stdout",
     "output_type": "stream",
     "text": [
      "Collecting git+https://github.com/philferriere/cocoapi.git#subdirectory=PythonAPI\n",
      "  Cloning https://github.com/philferriere/cocoapi.git to /private/var/folders/b3/tkqs1bcn7dsgpmv7041d3sww0000gn/T/pip-req-build-f6mnhg9h\n",
      "  Running command git clone -q https://github.com/philferriere/cocoapi.git /private/var/folders/b3/tkqs1bcn7dsgpmv7041d3sww0000gn/T/pip-req-build-f6mnhg9h\n",
      "Building wheels for collected packages: pycocotools\n",
      "  Building wheel for pycocotools (setup.py) ... \u001b[?25lerror\n",
      "\u001b[31m  ERROR: Command errored out with exit status 1:\n",
      "   command: /Users/santhoshputtaraju/anaconda3/bin/python -u -c 'import sys, setuptools, tokenize; sys.argv[0] = '\"'\"'/private/var/folders/b3/tkqs1bcn7dsgpmv7041d3sww0000gn/T/pip-req-build-f6mnhg9h/PythonAPI/setup.py'\"'\"'; __file__='\"'\"'/private/var/folders/b3/tkqs1bcn7dsgpmv7041d3sww0000gn/T/pip-req-build-f6mnhg9h/PythonAPI/setup.py'\"'\"';f=getattr(tokenize, '\"'\"'open'\"'\"', open)(__file__);code=f.read().replace('\"'\"'\\r\\n'\"'\"', '\"'\"'\\n'\"'\"');f.close();exec(compile(code, __file__, '\"'\"'exec'\"'\"'))' bdist_wheel -d /private/var/folders/b3/tkqs1bcn7dsgpmv7041d3sww0000gn/T/pip-wheel-0b3x4pj1 --python-tag cp37\n",
      "       cwd: /private/var/folders/b3/tkqs1bcn7dsgpmv7041d3sww0000gn/T/pip-req-build-f6mnhg9h/PythonAPI\n",
      "  Complete output (18 lines):\n",
      "  running bdist_wheel\n",
      "  running build\n",
      "  running build_py\n",
      "  creating build\n",
      "  creating build/lib.macosx-10.9-x86_64-3.7\n",
      "  creating build/lib.macosx-10.9-x86_64-3.7/pycocotools\n",
      "  copying pycocotools/coco.py -> build/lib.macosx-10.9-x86_64-3.7/pycocotools\n",
      "  copying pycocotools/mask.py -> build/lib.macosx-10.9-x86_64-3.7/pycocotools\n",
      "  copying pycocotools/__init__.py -> build/lib.macosx-10.9-x86_64-3.7/pycocotools\n",
      "  copying pycocotools/cocoeval.py -> build/lib.macosx-10.9-x86_64-3.7/pycocotools\n",
      "  running build_ext\n",
      "  building 'pycocotools._mask' extension\n",
      "  creating build/temp.macosx-10.9-x86_64-3.7\n",
      "  creating build/temp.macosx-10.9-x86_64-3.7/pycocotools\n",
      "  creating build/common\n",
      "  gcc -Wno-unused-result -Wsign-compare -Wunreachable-code -DNDEBUG -g -fwrapv -O3 -Wall -Wstrict-prototypes -I/Users/santhoshputtaraju/anaconda3/include -arch x86_64 -I/Users/santhoshputtaraju/anaconda3/include -arch x86_64 -I/Users/santhoshputtaraju/anaconda3/lib/python3.7/site-packages/numpy/core/include -I../common -I/Users/santhoshputtaraju/anaconda3/include/python3.7m -c pycocotools/_mask.c -o build/temp.macosx-10.9-x86_64-3.7/pycocotools/_mask.o\n",
      "  xcrun: error: invalid active developer path (/Library/Developer/CommandLineTools), missing xcrun at: /Library/Developer/CommandLineTools/usr/bin/xcrun\n",
      "  error: command 'gcc' failed with exit status 1\n",
      "  ----------------------------------------\u001b[0m\n",
      "\u001b[31m  ERROR: Failed building wheel for pycocotools\u001b[0m\n",
      "\u001b[?25h  Running setup.py clean for pycocotools\n",
      "\u001b[31m  ERROR: Command errored out with exit status 1:\n",
      "   command: /Users/santhoshputtaraju/anaconda3/bin/python -u -c 'import sys, setuptools, tokenize; sys.argv[0] = '\"'\"'/private/var/folders/b3/tkqs1bcn7dsgpmv7041d3sww0000gn/T/pip-req-build-f6mnhg9h/PythonAPI/setup.py'\"'\"'; __file__='\"'\"'/private/var/folders/b3/tkqs1bcn7dsgpmv7041d3sww0000gn/T/pip-req-build-f6mnhg9h/PythonAPI/setup.py'\"'\"';f=getattr(tokenize, '\"'\"'open'\"'\"', open)(__file__);code=f.read().replace('\"'\"'\\r\\n'\"'\"', '\"'\"'\\n'\"'\"');f.close();exec(compile(code, __file__, '\"'\"'exec'\"'\"'))' clean --all\n",
      "       cwd: /private/var/folders/b3/tkqs1bcn7dsgpmv7041d3sww0000gn/T/pip-req-build-f6mnhg9h\n",
      "  Complete output (11 lines):\n",
      "  Traceback (most recent call last):\n",
      "    File \"<string>\", line 1, in <module>\n",
      "    File \"/private/var/folders/b3/tkqs1bcn7dsgpmv7041d3sww0000gn/T/pip-req-build-f6mnhg9h/PythonAPI/setup.py\", line 25, in <module>\n",
      "      cythonize(ext_modules)\n",
      "    File \"/Users/santhoshputtaraju/anaconda3/lib/python3.7/site-packages/Cython/Build/Dependencies.py\", line 966, in cythonize\n",
      "      aliases=aliases)\n",
      "    File \"/Users/santhoshputtaraju/anaconda3/lib/python3.7/site-packages/Cython/Build/Dependencies.py\", line 810, in create_extension_list\n",
      "      for file in nonempty(sorted(extended_iglob(filepattern)), \"'%s' doesn't match any files\" % filepattern):\n",
      "    File \"/Users/santhoshputtaraju/anaconda3/lib/python3.7/site-packages/Cython/Build/Dependencies.py\", line 109, in nonempty\n",
      "      raise ValueError(error_msg)\n",
      "  ValueError: 'pycocotools/_mask.pyx' doesn't match any files\n",
      "  ----------------------------------------\u001b[0m\n",
      "\u001b[31m  ERROR: Failed cleaning build dir for pycocotools\u001b[0m\n",
      "Failed to build pycocotools\n",
      "Installing collected packages: pycocotools\n",
      "  Running setup.py install for pycocotools ... \u001b[?25lerror\n",
      "\u001b[31m    ERROR: Command errored out with exit status 1:\n",
      "     command: /Users/santhoshputtaraju/anaconda3/bin/python -u -c 'import sys, setuptools, tokenize; sys.argv[0] = '\"'\"'/private/var/folders/b3/tkqs1bcn7dsgpmv7041d3sww0000gn/T/pip-req-build-f6mnhg9h/PythonAPI/setup.py'\"'\"'; __file__='\"'\"'/private/var/folders/b3/tkqs1bcn7dsgpmv7041d3sww0000gn/T/pip-req-build-f6mnhg9h/PythonAPI/setup.py'\"'\"';f=getattr(tokenize, '\"'\"'open'\"'\"', open)(__file__);code=f.read().replace('\"'\"'\\r\\n'\"'\"', '\"'\"'\\n'\"'\"');f.close();exec(compile(code, __file__, '\"'\"'exec'\"'\"'))' install --record /private/var/folders/b3/tkqs1bcn7dsgpmv7041d3sww0000gn/T/pip-record-tjjrmsl_/install-record.txt --single-version-externally-managed --compile\n",
      "         cwd: /private/var/folders/b3/tkqs1bcn7dsgpmv7041d3sww0000gn/T/pip-req-build-f6mnhg9h/PythonAPI\n",
      "    Complete output (8 lines):\n",
      "    running install\n",
      "    running build\n",
      "    running build_py\n",
      "    running build_ext\n",
      "    building 'pycocotools._mask' extension\n",
      "    gcc -Wno-unused-result -Wsign-compare -Wunreachable-code -DNDEBUG -g -fwrapv -O3 -Wall -Wstrict-prototypes -I/Users/santhoshputtaraju/anaconda3/include -arch x86_64 -I/Users/santhoshputtaraju/anaconda3/include -arch x86_64 -I/Users/santhoshputtaraju/anaconda3/lib/python3.7/site-packages/numpy/core/include -I../common -I/Users/santhoshputtaraju/anaconda3/include/python3.7m -c pycocotools/_mask.c -o build/temp.macosx-10.9-x86_64-3.7/pycocotools/_mask.o\n",
      "    xcrun: error: invalid active developer path (/Library/Developer/CommandLineTools), missing xcrun at: /Library/Developer/CommandLineTools/usr/bin/xcrun\n",
      "    error: command 'gcc' failed with exit status 1\n",
      "    ----------------------------------------\u001b[0m\n",
      "\u001b[31mERROR: Command errored out with exit status 1: /Users/santhoshputtaraju/anaconda3/bin/python -u -c 'import sys, setuptools, tokenize; sys.argv[0] = '\"'\"'/private/var/folders/b3/tkqs1bcn7dsgpmv7041d3sww0000gn/T/pip-req-build-f6mnhg9h/PythonAPI/setup.py'\"'\"'; __file__='\"'\"'/private/var/folders/b3/tkqs1bcn7dsgpmv7041d3sww0000gn/T/pip-req-build-f6mnhg9h/PythonAPI/setup.py'\"'\"';f=getattr(tokenize, '\"'\"'open'\"'\"', open)(__file__);code=f.read().replace('\"'\"'\\r\\n'\"'\"', '\"'\"'\\n'\"'\"');f.close();exec(compile(code, __file__, '\"'\"'exec'\"'\"'))' install --record /private/var/folders/b3/tkqs1bcn7dsgpmv7041d3sww0000gn/T/pip-record-tjjrmsl_/install-record.txt --single-version-externally-managed --compile Check the logs for full command output.\u001b[0m\n",
      "\u001b[?25h"
     ]
    }
   ],
   "source": [
    "!pip install git+https://github.com/philferriere/cocoapi.git#subdirectory=PythonAPI"
   ]
  },
  {
   "cell_type": "markdown",
   "metadata": {
    "id": "tmzNRMT8taQv"
   },
   "source": [
    "### export trained model"
   ]
  },
  {
   "cell_type": "code",
   "execution_count": null,
   "metadata": {
    "id": "ldY_ocqR25GM"
   },
   "outputs": [],
   "source": [
    "!python ./exporter_main_v2.py --input_type image_tensor\\\n",
    " --pipeline_config_path ./models/lemos_ssd_resnet50_v1_fpn/pipeline.config\\\n",
    " --trained_checkpoint_dir ./models/lemos_ssd_resnet50_v1_fpn/ \\\n",
    " --output_directory ./exported-models/bankCheck_exported_model_2020_12_25"
   ]
  }
 ],
 "metadata": {
  "accelerator": "GPU",
  "colab": {
   "collapsed_sections": [],
   "name": "bank_check_ssd_model_training_notebook_lemos_SHARED.ipynb",
   "provenance": [],
   "toc_visible": true
  },
  "kernelspec": {
   "display_name": "Python 3",
   "language": "python",
   "name": "python3"
  },
  "language_info": {
   "codemirror_mode": {
    "name": "ipython",
    "version": 3
   },
   "file_extension": ".py",
   "mimetype": "text/x-python",
   "name": "python",
   "nbconvert_exporter": "python",
   "pygments_lexer": "ipython3",
   "version": "3.7.4"
  }
 },
 "nbformat": 4,
 "nbformat_minor": 1
}
